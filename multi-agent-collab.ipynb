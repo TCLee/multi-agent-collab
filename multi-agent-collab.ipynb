{
 "cells": [
  {
   "cell_type": "markdown",
   "id": "301faede-d393-4031-bac1-3b6e7a3e5b40",
   "metadata": {},
   "source": [
    "# Multi-agent Collaboration\n",
    "\n",
    "\n",
    "## Overview\n",
    "\n",
    "A single agent can usually perform well using a small set of tools to solve a specific task. However, even powerful models like GPT-4 may struggle when given many different tools to solve a complex task.\n",
    "\n",
    "One way to approach complicated tasks is through a _\"divide-and-conquer\"_ approach. Create a specialized agent for each task and route tasks to the correct _\"expert\"_.\n",
    "\n",
    "The code from this notebook is adapted from the [LangGraph tutorial](https://langchain-ai.github.io/langgraph/tutorials/multi_agent/multi-agent-collaboration). The ideas in this notebook is inspired by the paper [AutoGen: Enabling Next-Gen LLM Applications via Multi-Agent Conversation](https://arxiv.org/abs/2308.08155), by Wu, et. al.\n",
    "\n",
    "The graph that we'll build will look something like the following diagram:\n",
    "\n",
    "![multi_agent diagram](img/simple_multi_agent_diagram.png)\n",
    "\n",
    "**Figure 1**: Image from [LangGraph](https://langchain-ai.github.io/langgraph/tutorials/multi_agent/multi-agent-collaboration)"
   ]
  },
  {
   "cell_type": "markdown",
   "id": "f8dd4fa3-a216-44b9-9923-9097dbae46d2",
   "metadata": {},
   "source": [
    "## Setup\n",
    "\n",
    "Before we begin, please make sure you have setup the `.env` file in the project \n",
    "directory as described in [`README.md`](README.md).\n",
    "\n",
    "Next, we will load in the necessary environment variables (e.g., API keys) for this notebook:"
   ]
  },
  {
   "cell_type": "code",
   "execution_count": 1,
   "id": "980343ae-4ac0-425a-92c7-41e099568340",
   "metadata": {},
   "outputs": [],
   "source": [
    "import os\n",
    "from dotenv import load_dotenv\n",
    "\n",
    "_ = load_dotenv()\n",
    "\n",
    "assert os.environ.get(\"GOOGLE_API_KEY\")"
   ]
  },
  {
   "cell_type": "markdown",
   "id": "abfa4f28-20b3-4d6c-9f63-feddb69df1eb",
   "metadata": {},
   "source": [
    "## Create Agents\n",
    "\n",
    "The following helper function will help create agents. These agents will then be nodes in the graph."
   ]
  },
  {
   "cell_type": "code",
   "execution_count": 2,
   "id": "7cb86ca1-14d6-49ba-baf8-7d88cd24df44",
   "metadata": {},
   "outputs": [],
   "source": [
    "from langchain_core.messages import (\n",
    "    BaseMessage,\n",
    "    HumanMessage,\n",
    "    ToolMessage,\n",
    ")\n",
    "from langchain_core.prompts import (\n",
    "    ChatPromptTemplate, \n",
    "    MessagesPlaceholder,\n",
    ")\n",
    "from langchain_core.language_models.chat_models import BaseChatModel\n",
    "from langchain_core.tools import BaseTool\n",
    "from langchain_core.runnables import RunnableSequence\n",
    "\n",
    "\n",
    "def create_agent(\n",
    "    model: BaseChatModel, \n",
    "    tools: list[BaseTool], \n",
    "    system_message: str\n",
    ") -> RunnableSequence:\n",
    "    \"\"\"\n",
    "    Create an agent that will be a node in the graph.\n",
    "\n",
    "    Args:\n",
    "        model: The LLM that powers this agent.\n",
    "        tools: List of tools to be called by the LLM.\n",
    "        system_message: The system message passed to the LLM \n",
    "            to configure its behaviour.\n",
    "\n",
    "    Returns:\n",
    "        A chain that can be invoked.\n",
    "    \"\"\"\n",
    "    prompt = ChatPromptTemplate.from_messages(\n",
    "        [\n",
    "            (\n",
    "                \"system\",\n",
    "                \"You are a helpful AI assistant, \"\n",
    "                \"collaborating with other assistants. \"\n",
    "                \"Use the provided tools to progress \"\n",
    "                \"towards answering the question. \"\n",
    "                \"If you are unable to fully answer, \"\n",
    "                \"that's OK, another assistant with \"\n",
    "                \"different tools will help where \"\n",
    "                \"you left off. Execute what you can \"\n",
    "                \"to make progress. If you or any of \"\n",
    "                \"the other assistants have the \"\n",
    "                \"final answer or deliverable, \"\n",
    "                \"prefix your response with FINAL ANSWER \"\n",
    "                \"so the team knows to stop. \"\n",
    "                \"You have access to the following tools: {tool_names}.\"\n",
    "                \"\\n\\n\"\n",
    "                \"{system_message}\",\n",
    "            ),\n",
    "            MessagesPlaceholder(\n",
    "                variable_name=\"messages\"\n",
    "            ),\n",
    "        ]\n",
    "    )\n",
    "    prompt = prompt.partial(\n",
    "        system_message=system_message\n",
    "    )\n",
    "    prompt = prompt.partial(\n",
    "        tool_names=\", \".join(\n",
    "            tool.name for tool in tools\n",
    "        )\n",
    "    )\n",
    "    return (\n",
    "        prompt \n",
    "        | model.bind_tools(tools)\n",
    "    )"
   ]
  },
  {
   "cell_type": "markdown",
   "id": "d875f3d4-5984-457e-9b30-d43aacc5e6be",
   "metadata": {},
   "source": [
    "## Define Tools\n",
    "\n",
    "We will also define some tools that our agents will use.\n",
    "\n",
    "### Fetch historical stock data tool\n",
    "\n",
    "This tool is used by the `stock_researcher` agent to fetch historical data for a given stock's ticker symbol. This tool uses the [`yfinance`](https://github.com/ranaroussi/yfinance) library to download market data from [Yahoo! finance](https://finance.yahoo.com/)."
   ]
  },
  {
   "cell_type": "code",
   "execution_count": 9,
   "id": "86e300ea-5240-4e20-8681-a20a5c2d83d8",
   "metadata": {},
   "outputs": [],
   "source": [
    "from typing import Annotated\n",
    "\n",
    "from langchain_core.tools import tool\n",
    "\n",
    "import pandas as pd\n",
    "import yfinance as yf\n",
    "\n",
    "\n",
    "@tool(\n",
    "    response_format=\"content_and_artifact\"\n",
    ")\n",
    "def get_historical_stock_data(\n",
    "    ticker_symbol: Annotated[\n",
    "        str, \n",
    "        \"A ticker symbol is a stock symbol; \"\n",
    "        \"an abbreviation of a company's name that \"\n",
    "        \"uniquely identifies its publicly traded \"\n",
    "        \"shares on stock exchanges. Examples of \"\n",
    "        \"ticker symbols are GOOGL for Google, \"\n",
    "        \"AMZN for Amazon, MSFT for Microsoft, \"\n",
    "        \"AAPL for Apple.\"\n",
    "    ],\n",
    ") -> tuple[str, pd.DataFrame]:\n",
    "    \"\"\"\n",
    "    Fetch the historical stock data for a given \n",
    "    stock ticker symbol.\n",
    "\n",
    "    Example:\n",
    "        .. code-block:: python\n",
    "\n",
    "            # fetch historical stock data for Apple Inc\n",
    "            get_historical_stock_data('AAPL')\n",
    "\n",
    "    Returns: \n",
    "        A pandas `DataFrame` with columns: \n",
    "        `Date`, `Open`, `High`, `Low`, `Close`, `Volume`.\n",
    "        The `Date` column will be used as the `DatetimeIndex`.\n",
    "    \"\"\"\n",
    "    stock = yf.Ticker(ticker_symbol)    \n",
    "\n",
    "    # artifact is a pandas DataFrame used by \n",
    "    # the plot_chart tool\n",
    "    hist_data = stock.history(\n",
    "        # 1 day interval\n",
    "        interval='1d', \n",
    "        # 3 months history\n",
    "        period='3mo',\n",
    "        # do NOT Include Dividends and \n",
    "        # Stock Splits in results\n",
    "        actions=False,\n",
    "    )\n",
    "\n",
    "    # content is for the LLM\n",
    "    content = (\n",
    "        \"Successfully fetched historical stock \"\n",
    "        f\"data for `{ticker_symbol}`.\"\n",
    "    )\n",
    "\n",
    "    # returns a (content, artifact) tuple\n",
    "    return (content, hist_data)"
   ]
  },
  {
   "cell_type": "markdown",
   "id": "3f3144ed-eca0-48e6-85ee-86507ef62040",
   "metadata": {},
   "source": [
    "Let's try invoking the tool to see what we get back:"
   ]
  },
  {
   "cell_type": "code",
   "execution_count": 18,
   "id": "2f6af71e-099a-47ab-be8a-1ad2e33ff39d",
   "metadata": {},
   "outputs": [],
   "source": [
    "from langchain_core.messages import ToolCall\n",
    "\n",
    "# normally, this would be generated by the LLM\n",
    "tool_call = ToolCall(\n",
    "    name=\"get_historical_stock_data\",\n",
    "    args={\n",
    "        \"ticker_symbol\": \"SPY\"\n",
    "    },\n",
    "    id=123,          # required\n",
    "    type=\"tool_call\" # required\n",
    ")\n",
    "\n",
    "tool_result = get_historical_stock_data.invoke(\n",
    "    input=tool_call\n",
    ")"
   ]
  },
  {
   "cell_type": "code",
   "execution_count": 21,
   "id": "2db59654-ca5f-496c-a89f-4868fdc21634",
   "metadata": {},
   "outputs": [
    {
     "data": {
      "text/plain": [
       "'Successfully fetched historical stock data for `SPY`.'"
      ]
     },
     "execution_count": 21,
     "metadata": {},
     "output_type": "execute_result"
    }
   ],
   "source": [
    "tool_result.content"
   ]
  },
  {
   "cell_type": "markdown",
   "id": "d5b6210e-5c6f-4979-8bf3-85b4cba976c3",
   "metadata": {},
   "source": [
    "Below we can see that the tool also returned an artifact, which is a pandas `DataFrame` that will be used by the `plot_chart` tool:"
   ]
  },
  {
   "cell_type": "code",
   "execution_count": 23,
   "id": "f86cf9ab-fdba-4cc4-94f3-bc3cf92dffcf",
   "metadata": {},
   "outputs": [
    {
     "data": {
      "text/plain": [
       "pandas.core.frame.DataFrame"
      ]
     },
     "execution_count": 23,
     "metadata": {},
     "output_type": "execute_result"
    }
   ],
   "source": [
    "type(tool_result.artifact)"
   ]
  },
  {
   "cell_type": "code",
   "execution_count": 24,
   "id": "72ff0541-6290-4175-ade0-52e74b733cc0",
   "metadata": {},
   "outputs": [
    {
     "data": {
      "text/html": [
       "<div>\n",
       "<style scoped>\n",
       "    .dataframe tbody tr th:only-of-type {\n",
       "        vertical-align: middle;\n",
       "    }\n",
       "\n",
       "    .dataframe tbody tr th {\n",
       "        vertical-align: top;\n",
       "    }\n",
       "\n",
       "    .dataframe thead th {\n",
       "        text-align: right;\n",
       "    }\n",
       "</style>\n",
       "<table border=\"1\" class=\"dataframe\">\n",
       "  <thead>\n",
       "    <tr style=\"text-align: right;\">\n",
       "      <th></th>\n",
       "      <th>Open</th>\n",
       "      <th>High</th>\n",
       "      <th>Low</th>\n",
       "      <th>Close</th>\n",
       "      <th>Volume</th>\n",
       "    </tr>\n",
       "    <tr>\n",
       "      <th>Date</th>\n",
       "      <th></th>\n",
       "      <th></th>\n",
       "      <th></th>\n",
       "      <th></th>\n",
       "      <th></th>\n",
       "    </tr>\n",
       "  </thead>\n",
       "  <tbody>\n",
       "    <tr>\n",
       "      <th>2024-08-20 00:00:00-04:00</th>\n",
       "      <td>559.150024</td>\n",
       "      <td>560.840027</td>\n",
       "      <td>557.330017</td>\n",
       "      <td>558.700012</td>\n",
       "      <td>33732300</td>\n",
       "    </tr>\n",
       "    <tr>\n",
       "      <th>2024-08-21 00:00:00-04:00</th>\n",
       "      <td>559.770020</td>\n",
       "      <td>562.109985</td>\n",
       "      <td>554.729980</td>\n",
       "      <td>560.619995</td>\n",
       "      <td>41514600</td>\n",
       "    </tr>\n",
       "    <tr>\n",
       "      <th>2024-08-22 00:00:00-04:00</th>\n",
       "      <td>562.559998</td>\n",
       "      <td>563.179993</td>\n",
       "      <td>554.979980</td>\n",
       "      <td>556.219971</td>\n",
       "      <td>56121500</td>\n",
       "    </tr>\n",
       "    <tr>\n",
       "      <th>2024-08-23 00:00:00-04:00</th>\n",
       "      <td>559.530029</td>\n",
       "      <td>563.090027</td>\n",
       "      <td>557.289978</td>\n",
       "      <td>562.130005</td>\n",
       "      <td>50639400</td>\n",
       "    </tr>\n",
       "    <tr>\n",
       "      <th>2024-08-26 00:00:00-04:00</th>\n",
       "      <td>563.179993</td>\n",
       "      <td>563.909973</td>\n",
       "      <td>559.049988</td>\n",
       "      <td>560.789978</td>\n",
       "      <td>35739100</td>\n",
       "    </tr>\n",
       "  </tbody>\n",
       "</table>\n",
       "</div>"
      ],
      "text/plain": [
       "                                 Open        High         Low       Close  \\\n",
       "Date                                                                        \n",
       "2024-08-20 00:00:00-04:00  559.150024  560.840027  557.330017  558.700012   \n",
       "2024-08-21 00:00:00-04:00  559.770020  562.109985  554.729980  560.619995   \n",
       "2024-08-22 00:00:00-04:00  562.559998  563.179993  554.979980  556.219971   \n",
       "2024-08-23 00:00:00-04:00  559.530029  563.090027  557.289978  562.130005   \n",
       "2024-08-26 00:00:00-04:00  563.179993  563.909973  559.049988  560.789978   \n",
       "\n",
       "                             Volume  \n",
       "Date                                 \n",
       "2024-08-20 00:00:00-04:00  33732300  \n",
       "2024-08-21 00:00:00-04:00  41514600  \n",
       "2024-08-22 00:00:00-04:00  56121500  \n",
       "2024-08-23 00:00:00-04:00  50639400  \n",
       "2024-08-26 00:00:00-04:00  35739100  "
      ]
     },
     "execution_count": 24,
     "metadata": {},
     "output_type": "execute_result"
    }
   ],
   "source": [
    "tool_result.artifact.tail()"
   ]
  },
  {
   "cell_type": "markdown",
   "id": "f4198b0c-c172-4fce-b450-158a2499e57b",
   "metadata": {},
   "source": [
    "### Plot Chart Tool\n",
    "\n",
    "The tool for plotting charts using `matplotlib` is used by the `chart_generator` agent."
   ]
  },
  {
   "cell_type": "code",
   "execution_count": 66,
   "id": "8676d221-e246-47cc-a2b2-91fe78ba53cc",
   "metadata": {},
   "outputs": [],
   "source": [
    "from typing import Annotated\n",
    "\n",
    "import matplotlib.pyplot as plt\n",
    "import numpy as np\n",
    "\n",
    "from matplotlib.dates import ConciseDateFormatter\n",
    "\n",
    "from langchain_core.tools import tool\n",
    "\n",
    "\n",
    "@tool\n",
    "def plot_time_series(\n",
    "    start_date: Annotated[\n",
    "        str, \n",
    "        \"Start date as a string in ISO 8601 date format: \"\n",
    "        \"YYYY-MM-DD where years (Y), months (M), days (D). \"\n",
    "        \"Example: '2024-08-01' # Day: 1, Month: 8 (August), Year: 2024\"\n",
    "    ],\n",
    "    end_date: Annotated[\n",
    "        str, \n",
    "        \"End date as a string in ISO 8601 date format: \"\n",
    "        \"YYYY-MM-DD where years (Y), months (M), days (D). \"\n",
    "        \"Example: '2025-09-20' # Day: 20, Month: 9 (September), Year: 2025\"\n",
    "    ],\n",
    "    data: Annotated[list[float], \"List of values for the y-axis.\"],\n",
    "    title: Annotated[str, \"Concise title for the chart.\"],\n",
    "    x_label: Annotated[str, \"Concise label for the x-axis.\"],\n",
    "    y_label: Annotated[str, \"Concise label for the y-axis.\"],\n",
    ") -> None:\n",
    "    \"\"\"\n",
    "    Plot a line chart of a time series. \n",
    "    \n",
    "    The x-axis represents the dates ranging from `start_date` \n",
    "    to `end_date` (inclusive) with a step size of 1 day. \n",
    "    The y-axis represents the data values for each date.\n",
    "\n",
    "    Example:\n",
    "        # Plots average temperature in Paris for 7 days\n",
    "        plot_time_series(\n",
    "            start_date='2024-08-01',\n",
    "            end_date='2024-08-07',\n",
    "            data=[24.6, 23.0, 19.7, 20.1, 21.2, 21.6, 19.3],\n",
    "            title='Average Temperature in Paris',\n",
    "            x_label='Date',\n",
    "            y_label='Temperature (C°)'\n",
    "        )    \n",
    "    \"\"\"\n",
    "    fig, ax = plt.subplots(\n",
    "        figsize=(5, 2.7), \n",
    "        layout='constrained'\n",
    "    )\n",
    "\n",
    "    ax.set_title(title)\n",
    "    ax.set_xlabel(x_label)\n",
    "    ax.set_ylabel(y_label)\n",
    "    ax.grid(visible=True)\n",
    "\n",
    "    # Step size of 1 day\n",
    "    step_day = np.timedelta64(1, 'D')\n",
    "    \n",
    "    dates = np.arange(\n",
    "        start=np.datetime64(start_date), \n",
    "        # include end_date\n",
    "        stop=np.datetime64(end_date) + step_day,\n",
    "        step=step_day\n",
    "    )\n",
    "    \n",
    "    ax.plot(dates, data)    \n",
    "    ax.xaxis.set_major_formatter(\n",
    "        ConciseDateFormatter(\n",
    "            locator=ax.xaxis.get_major_locator()\n",
    "        )\n",
    "    )\n",
    "    \n",
    "    plt.show()"
   ]
  },
  {
   "cell_type": "markdown",
   "id": "595fc4a4-6bf1-41dc-960d-932b66ca7cd8",
   "metadata": {},
   "source": [
    "Let's inspect some of the attributes associated with this tool:"
   ]
  },
  {
   "cell_type": "code",
   "execution_count": 68,
   "id": "25747572-f7ff-4130-ac45-b78b77bf4554",
   "metadata": {},
   "outputs": [
    {
     "name": "stdout",
     "output_type": "stream",
     "text": [
      "plot_time_series\n",
      "---\n",
      "Plot a line chart of a time series. \n",
      "\n",
      "The x-axis represents the dates ranging from `start_date` \n",
      "to `end_date` (inclusive) with a step size of 1 day. \n",
      "The y-axis represents the data values for each date.\n",
      "\n",
      "Example:\n",
      "    # Plots average temperature in Paris for 7 days\n",
      "    plot_time_series(\n",
      "        start_date='2024-08-01',\n",
      "        end_date='2024-08-07',\n",
      "        data=[24.6, 23.0, 19.7, 20.1, 21.2, 21.6, 19.3],\n",
      "        title='Average Temperature in Paris',\n",
      "        x_label='Date',\n",
      "        y_label='Temperature (C°)'\n",
      "    )\n",
      "---\n",
      "{'start_date': {'title': 'Start Date', 'description': \"Start date as a string in ISO 8601 date format: YYYY-MM-DD where years (Y), months (M), days (D). Example: '2024-08-01' # Day: 1, Month: 8 (August), Year: 2024\", 'type': 'string'}, 'end_date': {'title': 'End Date', 'description': \"End date as a string in ISO 8601 date format: YYYY-MM-DD where years (Y), months (M), days (D). Example: '2025-09-20' # Day: 20, Month: 9 (September), Year: 2025\", 'type': 'string'}, 'data': {'title': 'Data', 'description': 'List of values for the y-axis.', 'type': 'array', 'items': {'type': 'number'}}, 'title': {'title': 'Title', 'description': 'Concise title for the chart.', 'type': 'string'}, 'x_label': {'title': 'X Label', 'description': 'Concise label for the x-axis.', 'type': 'string'}, 'y_label': {'title': 'Y Label', 'description': 'Concise label for the y-axis.', 'type': 'string'}}\n"
     ]
    }
   ],
   "source": [
    "print(plot_time_series.name, end=\"\\n---\\n\")\n",
    "print(plot_time_series.description, end=\"\\n---\\n\")\n",
    "print(plot_time_series.args)"
   ]
  },
  {
   "cell_type": "code",
   "execution_count": 69,
   "id": "4436f581-e75d-4dea-9a03-940c0279756b",
   "metadata": {},
   "outputs": [
    {
     "data": {
      "text/plain": [
       "{'title': 'plot_time_seriesSchema',\n",
       " 'description': \"Plot a line chart of a time series. \\n\\nThe x-axis represents the dates ranging from `start_date` \\nto `end_date` (inclusive) with a step size of 1 day. \\nThe y-axis represents the data values for each date.\\n\\nExample:\\n    # Plots average temperature in Paris for 7 days\\n    plot_time_series(\\n        start_date='2024-08-01',\\n        end_date='2024-08-07',\\n        data=[24.6, 23.0, 19.7, 20.1, 21.2, 21.6, 19.3],\\n        title='Average Temperature in Paris',\\n        x_label='Date',\\n        y_label='Temperature (C°)'\\n    )    \",\n",
       " 'type': 'object',\n",
       " 'properties': {'start_date': {'title': 'Start Date',\n",
       "   'description': \"Start date as a string in ISO 8601 date format: YYYY-MM-DD where years (Y), months (M), days (D). Example: '2024-08-01' # Day: 1, Month: 8 (August), Year: 2024\",\n",
       "   'type': 'string'},\n",
       "  'end_date': {'title': 'End Date',\n",
       "   'description': \"End date as a string in ISO 8601 date format: YYYY-MM-DD where years (Y), months (M), days (D). Example: '2025-09-20' # Day: 20, Month: 9 (September), Year: 2025\",\n",
       "   'type': 'string'},\n",
       "  'data': {'title': 'Data',\n",
       "   'description': 'List of values for the y-axis.',\n",
       "   'type': 'array',\n",
       "   'items': {'type': 'number'}},\n",
       "  'title': {'title': 'Title',\n",
       "   'description': 'Concise title for the chart.',\n",
       "   'type': 'string'},\n",
       "  'x_label': {'title': 'X Label',\n",
       "   'description': 'Concise label for the x-axis.',\n",
       "   'type': 'string'},\n",
       "  'y_label': {'title': 'Y Label',\n",
       "   'description': 'Concise label for the y-axis.',\n",
       "   'type': 'string'}},\n",
       " 'required': ['start_date', 'end_date', 'data', 'title', 'x_label', 'y_label']}"
      ]
     },
     "execution_count": 69,
     "metadata": {},
     "output_type": "execute_result"
    }
   ],
   "source": [
    "plot_time_series.args_schema.schema()"
   ]
  },
  {
   "cell_type": "markdown",
   "id": "e21e9d6d-388c-4b2c-9067-8056f3551cd0",
   "metadata": {},
   "source": [
    "Let's invoke our tool directly with some tool arguments to see what it outputs:"
   ]
  },
  {
   "cell_type": "code",
   "execution_count": 70,
   "id": "15178f31-75bd-40b3-8490-0a0ad568739a",
   "metadata": {},
   "outputs": [
    {
     "data": {
      "image/png": "[encoded data removed]",
      "text/plain": [
       "<Figure size 500x270 with 1 Axes>"
      ]
     },
     "metadata": {},
     "output_type": "display_data"
    }
   ],
   "source": [
    "plot_time_series.invoke(\n",
    "    input={\n",
    "        \"start_date\": '2024-08-01',\n",
    "        \"end_date\": '2024-08-07',\n",
    "        \"data\": [24.6, 23.0, 19.7, 20.1, 21.2, 21.6, 19.3],\n",
    "        \"title\": 'Average Temperature in Paris',\n",
    "        \"x_label\": 'Date',\n",
    "        \"y_label\": 'Temperature (C°)'    \n",
    "    }    \n",
    ")  "
   ]
  },
  {
   "cell_type": "markdown",
   "id": "7c05aba2-88fb-4bf8-a34b-af1bef5047b8",
   "metadata": {},
   "source": [
    "## Create graph\n",
    "\n",
    "After we've defined the tools for the agents, we'll create the agents and tell them how to talk to each other using LangGraph.\n",
    "\n",
    "### Define State\n",
    "\n",
    "First define the state of the graph. This will just be a list of messages, and a key to track the most recent sender."
   ]
  },
  {
   "cell_type": "code",
   "execution_count": 71,
   "id": "1e04f68d-6d77-46b0-9b9a-7b79ce448e06",
   "metadata": {},
   "outputs": [],
   "source": [
    "import operator\n",
    "from typing import (\n",
    "    Annotated, \n",
    "    Sequence, \n",
    "    TypedDict\n",
    ")\n",
    "\n",
    "\n",
    "# This defines the object that is passed between each node\n",
    "# in the graph. We will create different nodes for each \n",
    "# agent and tool.\n",
    "class AgentState(TypedDict):\n",
    "    messages: Annotated[\n",
    "        Sequence[BaseMessage], \n",
    "        operator.add\n",
    "    ]\n",
    "    sender: str"
   ]
  },
  {
   "cell_type": "markdown",
   "id": "429ab881-d2b7-492d-a1c7-5997db01726b",
   "metadata": {},
   "source": [
    "### Define Agent Nodes\n",
    "\n",
    "Next, let's define the nodes for the agents. To make things easier, we'll create a helper function to create a node for a given agent."
   ]
  },
  {
   "cell_type": "code",
   "execution_count": 72,
   "id": "b9d826eb-12a0-41b2-aa5c-8e634d39154d",
   "metadata": {},
   "outputs": [],
   "source": [
    "from typing import Any\n",
    "\n",
    "from langchain_core.messages import AIMessage\n",
    "from langchain_core.runnables import Runnable\n",
    "from langchain.pydantic_v1 import BaseModel\n",
    "\n",
    "\n",
    "def agent_node(\n",
    "    state: AgentState, \n",
    "    agent: Runnable, \n",
    "    name: str\n",
    ") -> AgentState:\n",
    "    \"\"\"\n",
    "    Create a node on the graph for a given agent.\n",
    "\n",
    "    Args:\n",
    "        state: Current state of the graph.\n",
    "        agent: The agent that can be invoked to get a result.\n",
    "        name: The name of the node in the graph.\n",
    "        \n",
    "    Returns:\n",
    "        New state of the graph.\n",
    "    \"\"\"\n",
    "    result: [ToolMessage | BaseModel] = agent.invoke(state)\n",
    "    \n",
    "    # Convert the agent output into a format that \n",
    "    # is suitable to append to the global state\n",
    "    if isinstance(result, ToolMessage):\n",
    "        pass\n",
    "    else:        \n",
    "        result_dict = result.dict(\n",
    "            exclude={\"type\", \"name\"}\n",
    "        )\n",
    "        result = AIMessage(\n",
    "            **result_dict, \n",
    "            name=name\n",
    "        )\n",
    "\n",
    "    return AgentState(\n",
    "        messages=[result],\n",
    "        \n",
    "        # Keep track of the agent that sent \n",
    "        # the most recent message, so that we \n",
    "        # know who to route to next.\n",
    "        sender=name,\n",
    "    )"
   ]
  },
  {
   "cell_type": "markdown",
   "id": "5f9c4cec-24b5-4159-b612-857b947ee035",
   "metadata": {},
   "source": [
    "Create the chat model (LLM) that will power the agents:"
   ]
  },
  {
   "cell_type": "code",
   "execution_count": 73,
   "id": "85784783-c5a8-41a7-99f8-27b7cd46b7a5",
   "metadata": {},
   "outputs": [],
   "source": [
    "from langchain_google_genai import ChatGoogleGenerativeAI\n",
    "\n",
    "llm = ChatGoogleGenerativeAI(\n",
    "    model=\"gemini-1.5-flash\",\n",
    "    temperature=0,\n",
    ")"
   ]
  },
  {
   "cell_type": "markdown",
   "id": "9bf802df-3699-40ea-be3f-f40b4bc14de7",
   "metadata": {},
   "source": [
    "#### Research Agent\n",
    "\n",
    "Create the research agent and its node in the graph. The research agent is responsible for searching for answers on the web using the provided web search tool."
   ]
  },
  {
   "cell_type": "code",
   "execution_count": 74,
   "id": "e9add4b6-1c94-4912-a189-aa4a24d3367f",
   "metadata": {},
   "outputs": [
    {
     "name": "stderr",
     "output_type": "stream",
     "text": [
      "Key 'title' is not supported in schema, ignoring\n",
      "Key 'title' is not supported in schema, ignoring\n"
     ]
    }
   ],
   "source": [
    "from functools import partial\n",
    "\n",
    "research_agent = create_agent(\n",
    "    model=llm,\n",
    "    tools=[web_search_tool],\n",
    "    system_message=(\n",
    "        \"Given the user's query, your task is to use \"\n",
    "        \"the provided tool to search the web for \"\n",
    "        \"relevant answers. Provide accurate data \"\n",
    "        \"for another AI assistant to plot a chart.\"\n",
    "    ),\n",
    ")\n",
    "research_agent_node = partial(\n",
    "    agent_node, \n",
    "    agent=research_agent, \n",
    "    name=\"researcher\"\n",
    ")"
   ]
  },
  {
   "cell_type": "markdown",
   "id": "621476f5-d8d6-4fdd-a84c-52473bcf6467",
   "metadata": {},
   "source": [
    "#### Chart Generator Agent\n",
    "\n",
    "Create the chart generator agent and its node in the graph. Given the relevant data, the chart generator agent will plot a chart with the provided function/tool."
   ]
  },
  {
   "cell_type": "code",
   "execution_count": 75,
   "id": "dd52e130-3db6-4bac-a2f1-f516fb21300c",
   "metadata": {},
   "outputs": [
    {
     "name": "stderr",
     "output_type": "stream",
     "text": [
      "Key 'title' is not supported in schema, ignoring\n",
      "Key 'title' is not supported in schema, ignoring\n",
      "Key 'title' is not supported in schema, ignoring\n",
      "Key 'title' is not supported in schema, ignoring\n",
      "Key 'title' is not supported in schema, ignoring\n",
      "Key 'title' is not supported in schema, ignoring\n",
      "Key 'title' is not supported in schema, ignoring\n"
     ]
    }
   ],
   "source": [
    "chart_agent = create_agent(\n",
    "    model=llm,\n",
    "    tools=[plot_time_series],\n",
    "    system_message=(        \n",
    "        \"Given the relevant data, use the provided \"\n",
    "        \"tool to plot a chart of the data.\"\n",
    "    )\n",
    ")\n",
    "chart_agent_node = partial(\n",
    "    agent_node, \n",
    "    agent=chart_agent, \n",
    "    name=\"chart_generator\"\n",
    ")"
   ]
  },
  {
   "cell_type": "markdown",
   "id": "8a66d11b-4fd9-4946-b9d2-31f970828564",
   "metadata": {},
   "source": [
    "### Define Tool Node\n",
    "\n",
    "Define a node to run the tools used by the agents."
   ]
  },
  {
   "cell_type": "code",
   "execution_count": 76,
   "id": "1ac4d8c5-2402-4e93-9a52-83641ebcea34",
   "metadata": {},
   "outputs": [],
   "source": [
    "from langgraph.prebuilt import ToolNode\n",
    "\n",
    "tool_node = ToolNode(\n",
    "    tools=[\n",
    "        web_search_tool, \n",
    "        plot_time_series\n",
    "    ]\n",
    ")"
   ]
  },
  {
   "cell_type": "markdown",
   "id": "b252efe8-8adb-47fd-9a7f-a24a789ebb1e",
   "metadata": {},
   "source": [
    "### Define Router\n",
    "\n",
    "Define some of the edge logic that is needed to decide what to do based on results generated by the agents."
   ]
  },
  {
   "cell_type": "code",
   "execution_count": 77,
   "id": "64f74378-e329-418f-89f3-82967f58eebf",
   "metadata": {},
   "outputs": [],
   "source": [
    "from typing import Literal\n",
    "\n",
    "from langgraph.graph import END\n",
    "\n",
    "\n",
    "def router(\n",
    "    state: AgentState\n",
    ") -> Literal[\"call_tool\", END, \"continue\"]:\n",
    "    \"\"\"\n",
    "    Routes to different nodes based on the \n",
    "    agent's output.\n",
    "\n",
    "    Args:\n",
    "        state: Current state of the graph that includes \n",
    "            the previous agent's output.\n",
    "\n",
    "    Returns:\n",
    "        One of the following strings:\n",
    "        - `call_tool`: If an agent is invoking a tool.\n",
    "        - `__end__`: If an agent decides that the work is finished.\n",
    "        - `continue`: Hand control over to the other agent.\n",
    "    \"\"\"\n",
    "    messages = state[\"messages\"]\n",
    "    last_message: AIMessage = messages[-1]    \n",
    "\n",
    "    if last_message.tool_calls:\n",
    "        # Previous agent is invoking a tool\n",
    "        return \"call_tool\"\n",
    "    \n",
    "    if \"FINAL ANSWER\" in last_message.content:\n",
    "        # One of the agent has decided that \n",
    "        # the work is finished\n",
    "        return END\n",
    "\n",
    "    # Hand control over to the other agent\n",
    "    return \"continue\""
   ]
  },
  {
   "cell_type": "markdown",
   "id": "b255c9e6-3589-4a1f-bd9d-6b9b9d3456cc",
   "metadata": {},
   "source": [
    "### Build the Graph\n",
    "\n",
    "We can now put it all together and build the graph."
   ]
  },
  {
   "cell_type": "code",
   "execution_count": 78,
   "id": "155efda7-9633-406d-9fd1-23ef739a541f",
   "metadata": {},
   "outputs": [],
   "source": [
    "from langgraph.graph import (\n",
    "    START, \n",
    "    StateGraph\n",
    ")\n",
    "\n",
    "\n",
    "workflow = StateGraph(\n",
    "    state_schema=AgentState\n",
    ")\n",
    "\n",
    "workflow.add_node(\"researcher\", research_agent_node)\n",
    "workflow.add_node(\"chart_generator\", chart_agent_node)\n",
    "workflow.add_node(\"call_tool\", tool_node)\n",
    "\n",
    "workflow.add_conditional_edges(\n",
    "    source=\"researcher\",\n",
    "    path=router,\n",
    "    path_map={\n",
    "        \"continue\": \"chart_generator\", \n",
    "        \"call_tool\": \"call_tool\", \n",
    "        \"__end__\": END\n",
    "    },\n",
    ")\n",
    "\n",
    "workflow.add_conditional_edges(\n",
    "    source=\"chart_generator\",\n",
    "    path=router,\n",
    "    path_map={\n",
    "        \"continue\": \"researcher\", \n",
    "        \"call_tool\": \"call_tool\", \n",
    "        \"__end__\": END\n",
    "    },\n",
    ")\n",
    "\n",
    "# Each agent node updates the 'sender' field\n",
    "# the tool calling node does not, meaning\n",
    "# this edge will route back to the original agent\n",
    "# who invoked the tool\n",
    "workflow.add_conditional_edges(\n",
    "    source=\"call_tool\",\n",
    "    path=lambda state: state[\"sender\"],\n",
    "    path_map={\n",
    "        \"researcher\": \"researcher\",\n",
    "        \"chart_generator\": \"chart_generator\",\n",
    "    }\n",
    ")\n",
    "\n",
    "workflow.add_edge(\n",
    "    start_key=START, \n",
    "    end_key=\"researcher\"\n",
    ")\n",
    "\n",
    "graph = workflow.compile()"
   ]
  },
  {
   "cell_type": "markdown",
   "id": "bbf4c5e8-f8cc-47b9-bd4a-88dd214fa7d5",
   "metadata": {},
   "source": [
    "Let's visualize the graph that we've built:"
   ]
  },
  {
   "cell_type": "code",
   "execution_count": 79,
   "id": "a2e3cfa8-803c-4a54-ac40-5cc3fd6da0f3",
   "metadata": {},
   "outputs": [
    {
     "data": {
      "image/jpeg": "[encoded data removed]",
      "text/plain": [
       "<IPython.core.display.Image object>"
      ]
     },
     "metadata": {},
     "output_type": "display_data"
    }
   ],
   "source": [
    "from IPython.display import Image, display\n",
    "\n",
    "display(\n",
    "    Image(\n",
    "        graph.get_graph(xray=True).draw_mermaid_png()\n",
    "    )\n",
    ")"
   ]
  },
  {
   "cell_type": "markdown",
   "id": "27bc2cea-b8b0-40f8-bd6a-a382877a2989",
   "metadata": {},
   "source": [
    "## Invoke\n",
    "\n",
    "After we have built the graph, we can now invoke it. Let's have it plot a chart for us:"
   ]
  },
  {
   "cell_type": "code",
   "execution_count": null,
   "id": "adc03371-8306-4da6-810e-8434a8a77811",
   "metadata": {},
   "outputs": [],
   "source": [
    "events = graph.stream(\n",
    "    input={\n",
    "        \"messages\": [\n",
    "            HumanMessage(\n",
    "                content=(\n",
    "                    \"1. Fetch the average temperature (in Celsius) in \"\n",
    "                    \"Kuala Lumpur for the past 7 days.\\n\"\n",
    "                    \"2. Plot a chart of the temperature (y-axis) \"\n",
    "                    \"vs date (x-axis).\\n\"\n",
    "                )\n",
    "            )\n",
    "        ],\n",
    "    },\n",
    "    config={\n",
    "        # Maximum number of steps to\n",
    "        # take in the graph\n",
    "        \"recursion_limit\": 150\n",
    "    },\n",
    ")\n",
    "\n",
    "for s in events:\n",
    "    print(s)\n",
    "    print(\"----\")"
   ]
  }
 ],
 "metadata": {
  "kernelspec": {
   "display_name": "Python 3 (ipykernel)",
   "language": "python",
   "name": "python3"
  },
  "language_info": {
   "codemirror_mode": {
    "name": "ipython",
    "version": 3
   },
   "file_extension": ".py",
   "mimetype": "text/x-python",
   "name": "python",
   "nbconvert_exporter": "python",
   "pygments_lexer": "ipython3",
   "version": "3.11.9"
  }
 },
 "nbformat": 4,
 "nbformat_minor": 5
}
