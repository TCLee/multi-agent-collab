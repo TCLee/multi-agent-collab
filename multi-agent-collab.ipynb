{
 "cells": [
  {
   "cell_type": "markdown",
   "id": "301faede-d393-4031-bac1-3b6e7a3e5b40",
   "metadata": {},
   "source": [
    "# Multi-agent Collaboration\n",
    "\n",
    "\n",
    "## Overview\n",
    "\n",
    "A single agent can usually perform well using a small set of tools to solve a specific task. However, even powerful models like GPT-4 may struggle when given many different tools to solve a complex task.\n",
    "\n",
    "One way to approach complicated tasks is through a _\"divide-and-conquer\"_ approach. Create a specialized agent for each task and route tasks to the correct _\"expert\"_.\n",
    "\n",
    "The code from this notebook is adapted from the [LangGraph tutorial](https://langchain-ai.github.io/langgraph/tutorials/multi_agent/multi-agent-collaboration). The ideas in this notebook is inspired by the paper [AutoGen: Enabling Next-Gen LLM Applications via Multi-Agent Conversation](https://arxiv.org/abs/2308.08155), by Wu, et. al.\n",
    "\n",
    "The graph that we'll build will look something like the following diagram:\n",
    "\n",
    "![multi_agent diagram](img/simple_multi_agent_diagram.png)\n",
    "\n",
    "**Figure 1**: Image from [LangGraph](https://langchain-ai.github.io/langgraph/tutorials/multi_agent/multi-agent-collaboration)"
   ]
  },
  {
   "cell_type": "markdown",
   "id": "f8dd4fa3-a216-44b9-9923-9097dbae46d2",
   "metadata": {},
   "source": [
    "## Setup\n",
    "\n",
    "Before we begin, please make sure you have setup the `.env` file in the project \n",
    "directory as described in [`README.md`](README.md).\n",
    "\n",
    "Next, we will load in the necessary environment variables (e.g., API keys) for this notebook:"
   ]
  },
  {
   "cell_type": "code",
   "execution_count": 1,
   "id": "980343ae-4ac0-425a-92c7-41e099568340",
   "metadata": {},
   "outputs": [],
   "source": [
    "import os\n",
    "from dotenv import load_dotenv\n",
    "\n",
    "_ = load_dotenv()\n",
    "\n",
    "assert os.environ.get(\"GOOGLE_API_KEY\")\n",
    "assert os.environ.get(\"TAVILY_API_KEY\")"
   ]
  },
  {
   "cell_type": "markdown",
   "id": "abfa4f28-20b3-4d6c-9f63-feddb69df1eb",
   "metadata": {},
   "source": [
    "## Create Agents\n",
    "\n",
    "The following helper function will help create agents. These agents will then be nodes in the graph."
   ]
  },
  {
   "cell_type": "code",
   "execution_count": 2,
   "id": "7cb86ca1-14d6-49ba-baf8-7d88cd24df44",
   "metadata": {},
   "outputs": [],
   "source": [
    "from langchain_core.messages import (\n",
    "    BaseMessage,\n",
    "    HumanMessage,\n",
    "    ToolMessage,\n",
    ")\n",
    "from langchain_core.prompts import (\n",
    "    ChatPromptTemplate, \n",
    "    MessagesPlaceholder,\n",
    ")\n",
    "from langchain_core.language_models.chat_models import BaseChatModel\n",
    "from langchain_core.tools import BaseTool\n",
    "from langchain_core.runnables import RunnableSequence\n",
    "\n",
    "\n",
    "def create_agent(\n",
    "    model: BaseChatModel, \n",
    "    tools: list[BaseTool], \n",
    "    system_message: str\n",
    ") -> RunnableSequence:\n",
    "    \"\"\"\n",
    "    Create an agent that will be a node in the graph.\n",
    "\n",
    "    Args:\n",
    "        model: The LLM that powers this agent.\n",
    "        tools: List of tools to be called by the LLM.\n",
    "        system_message: The system message passed to the LLM \n",
    "            to configure its behaviour.\n",
    "\n",
    "    Returns:\n",
    "        A chain that can be invoked.\n",
    "    \"\"\"\n",
    "    prompt = ChatPromptTemplate.from_messages(\n",
    "        [\n",
    "            (\n",
    "                \"system\",\n",
    "                \"You are a helpful AI assistant, \"\n",
    "                \"collaborating with other assistants. \"\n",
    "                \"Use the provided tools to progress \"\n",
    "                \"towards answering the question. \"\n",
    "                \"If you are unable to fully answer, \"\n",
    "                \"that's OK, another assistant with \"\n",
    "                \"different tools will help where \"\n",
    "                \"you left off. Execute what you can \"\n",
    "                \"to make progress. If you or any of \"\n",
    "                \"the other assistants have the \"\n",
    "                \"final answer or deliverable, \"\n",
    "                \"prefix your response with FINAL ANSWER \"\n",
    "                \"so the team knows to stop. \"\n",
    "                \"You have access to the following tools: {tool_names}.\"\n",
    "                \"\\n\\n\"\n",
    "                \"{system_message}\",\n",
    "            ),\n",
    "            MessagesPlaceholder(\n",
    "                variable_name=\"messages\"\n",
    "            ),\n",
    "        ]\n",
    "    )\n",
    "    prompt = prompt.partial(\n",
    "        system_message=system_message\n",
    "    )\n",
    "    prompt = prompt.partial(\n",
    "        tool_names=\", \".join(\n",
    "            tool.name for tool in tools\n",
    "        )\n",
    "    )\n",
    "    return (\n",
    "        prompt \n",
    "        | model.bind_tools(tools)\n",
    "    )"
   ]
  },
  {
   "cell_type": "code",
   "execution_count": 3,
   "id": "7059706d-d8a3-44f5-aeef-d37ad74d60df",
   "metadata": {},
   "outputs": [],
   "source": [
    "from langgraph.graph import (\n",
    "    START,\n",
    "    END, \n",
    "    StateGraph, \n",
    ")"
   ]
  },
  {
   "cell_type": "markdown",
   "id": "d875f3d4-5984-457e-9b30-d43aacc5e6be",
   "metadata": {},
   "source": [
    "## Define Tools\n",
    "\n",
    "We will also define some tools that our agents will use.\n",
    "\n",
    "### Web Search Tool\n",
    "\n",
    "The tool for searching the web for answers will be used by the `Researcher` agent."
   ]
  },
  {
   "cell_type": "code",
   "execution_count": 4,
   "id": "52ce66d1-929c-4c55-b030-eed8a26d3e27",
   "metadata": {
    "scrolled": true
   },
   "outputs": [],
   "source": [
    "from langchain_community.tools.tavily_search import TavilySearchResults\n",
    "\n",
    "web_search_tool = TavilySearchResults(max_results=3)"
   ]
  },
  {
   "cell_type": "markdown",
   "id": "f4198b0c-c172-4fce-b450-158a2499e57b",
   "metadata": {},
   "source": [
    "### Plot Chart Tool\n",
    "\n",
    "The tool for plotting charts using `matplotlib` is used by the `Chart_Generator` agent."
   ]
  },
  {
   "cell_type": "code",
   "execution_count": 5,
   "id": "0b23d5f0-4b1f-48db-bc7b-9adaad8c7460",
   "metadata": {},
   "outputs": [],
   "source": [
    "from typing import (\n",
    "    Any, \n",
    "    Annotated,\n",
    ")\n",
    "\n",
    "import matplotlib.pyplot as plt\n",
    "from langchain_core.tools import tool\n",
    "\n",
    "\n",
    "@tool\n",
    "def plot_line_chart(\n",
    "    x: Annotated[list[Any], \"List of values for the x-axis.\"], \n",
    "    y: Annotated[list[Any], \"List of values for the y-axis.\"], \n",
    "    title: Annotated[str, \"Concise title for the chart.\"],\n",
    "    x_label: Annotated[str, \"Concise label for the x-axis.\"],\n",
    "    y_label: Annotated[str, \"Concise label for the y-axis.\"],    \n",
    ") -> list[plt.Line2D]:\n",
    "    \"\"\"\n",
    "    Plot y versus x as a line chart.\n",
    "\n",
    "    Example:\n",
    "        plot_line_chart(\n",
    "            x=[1, 2, 3, 4],\n",
    "            y=[4, 3, 2, 1],\n",
    "            title=\"Title of Chart\",\n",
    "            x_label=\"Label for x-axis\",\n",
    "            y_label=\"Label for y-axis\",\n",
    "        )\n",
    "\n",
    "    Args:\n",
    "        x: List of values for the x-axis.\n",
    "        y: List of values for the y-axis.\n",
    "        title: Concise title for the chart.\n",
    "        x_label: Concise label for the x-axis.\n",
    "        y_label: Concise label for the y-axis.        \n",
    "\n",
    "    Returns:\n",
    "        A list of `Line2D` representing the plotted data.\n",
    "    \"\"\"\n",
    "    fig, ax = plt.subplots() \n",
    "    \n",
    "    ax.set_title(title)\n",
    "    ax.set_xlabel(x_label)\n",
    "    ax.set_ylabel(y_label)\n",
    "    ax.grid(visible=True)\n",
    "\n",
    "    lines = ax.plot(x, y)\n",
    "\n",
    "    plt.show()\n",
    "    return lines"
   ]
  },
  {
   "cell_type": "markdown",
   "id": "595fc4a4-6bf1-41dc-960d-932b66ca7cd8",
   "metadata": {},
   "source": [
    "Let's inspect some of the attributes associated with this tool:"
   ]
  },
  {
   "cell_type": "code",
   "execution_count": 6,
   "id": "25747572-f7ff-4130-ac45-b78b77bf4554",
   "metadata": {},
   "outputs": [
    {
     "name": "stdout",
     "output_type": "stream",
     "text": [
      "plot_line_chart\n",
      "---\n",
      "Plot y versus x as a line chart.\n",
      "\n",
      "Example:\n",
      "    plot_line_chart(\n",
      "        x=[1, 2, 3, 4],\n",
      "        y=[4, 3, 2, 1],\n",
      "        title=\"Title of Chart\",\n",
      "        x_label=\"Label for x-axis\",\n",
      "        y_label=\"Label for y-axis\",\n",
      "    )\n",
      "\n",
      "Args:\n",
      "    x: List of values for the x-axis.\n",
      "    y: List of values for the y-axis.\n",
      "    title: Concise title for the chart.\n",
      "    x_label: Concise label for the x-axis.\n",
      "    y_label: Concise label for the y-axis.        \n",
      "\n",
      "Returns:\n",
      "    A list of `Line2D` representing the plotted data.\n",
      "---\n",
      "{'x': {'title': 'X', 'description': 'List of values for the x-axis.', 'type': 'array', 'items': {}}, 'y': {'title': 'Y', 'description': 'List of values for the y-axis.', 'type': 'array', 'items': {}}, 'title': {'title': 'Title', 'description': 'Concise title for the chart.', 'type': 'string'}, 'x_label': {'title': 'X Label', 'description': 'Concise label for the x-axis.', 'type': 'string'}, 'y_label': {'title': 'Y Label', 'description': 'Concise label for the y-axis.', 'type': 'string'}}\n"
     ]
    }
   ],
   "source": [
    "print(plot_line_chart.name, end=\"\\n---\\n\")\n",
    "print(plot_line_chart.description, end=\"\\n---\\n\")\n",
    "print(plot_line_chart.args)"
   ]
  },
  {
   "cell_type": "code",
   "execution_count": 7,
   "id": "4436f581-e75d-4dea-9a03-940c0279756b",
   "metadata": {},
   "outputs": [
    {
     "data": {
      "text/plain": [
       "{'title': 'plot_line_chartSchema',\n",
       " 'description': 'Plot y versus x as a line chart.\\n\\nExample:\\n    plot_line_chart(\\n        x=[1, 2, 3, 4],\\n        y=[4, 3, 2, 1],\\n        title=\"Title of Chart\",\\n        x_label=\"Label for x-axis\",\\n        y_label=\"Label for y-axis\",\\n    )\\n\\nArgs:\\n    x: List of values for the x-axis.\\n    y: List of values for the y-axis.\\n    title: Concise title for the chart.\\n    x_label: Concise label for the x-axis.\\n    y_label: Concise label for the y-axis.        \\n\\nReturns:\\n    A list of `Line2D` representing the plotted data.',\n",
       " 'type': 'object',\n",
       " 'properties': {'x': {'title': 'X',\n",
       "   'description': 'List of values for the x-axis.',\n",
       "   'type': 'array',\n",
       "   'items': {}},\n",
       "  'y': {'title': 'Y',\n",
       "   'description': 'List of values for the y-axis.',\n",
       "   'type': 'array',\n",
       "   'items': {}},\n",
       "  'title': {'title': 'Title',\n",
       "   'description': 'Concise title for the chart.',\n",
       "   'type': 'string'},\n",
       "  'x_label': {'title': 'X Label',\n",
       "   'description': 'Concise label for the x-axis.',\n",
       "   'type': 'string'},\n",
       "  'y_label': {'title': 'Y Label',\n",
       "   'description': 'Concise label for the y-axis.',\n",
       "   'type': 'string'}},\n",
       " 'required': ['x', 'y', 'title', 'x_label', 'y_label']}"
      ]
     },
     "execution_count": 7,
     "metadata": {},
     "output_type": "execute_result"
    }
   ],
   "source": [
    "plot_line_chart.args_schema.schema()"
   ]
  },
  {
   "cell_type": "markdown",
   "id": "e21e9d6d-388c-4b2c-9067-8056f3551cd0",
   "metadata": {},
   "source": [
    "Let's invoke our tool directly with some tool arguments to see what it outputs:"
   ]
  },
  {
   "cell_type": "code",
   "execution_count": 8,
   "id": "27414e8f-2041-45f5-b9f9-960c00bdf391",
   "metadata": {},
   "outputs": [
    {
     "data": {
      "image/png": "[encoded data removed]",
      "text/plain": [
       "<Figure size 640x480 with 1 Axes>"
      ]
     },
     "metadata": {},
     "output_type": "display_data"
    },
    {
     "data": {
      "text/plain": [
       "[<matplotlib.lines.Line2D at 0x10ce03c50>]"
      ]
     },
     "execution_count": 8,
     "metadata": {},
     "output_type": "execute_result"
    }
   ],
   "source": [
    "plot_line_chart.invoke(\n",
    "    input={\n",
    "        \"x\": [1, 2, 3, 4], \n",
    "        \"y\": [1, 4, 2, 3],\n",
    "        \"title\": \"Title of Chart\",\n",
    "        \"x_label\": \"Label for x-axis\",\n",
    "        \"y_label\": \"Label for y-axis\",\n",
    "    }\n",
    ")"
   ]
  },
  {
   "cell_type": "markdown",
   "id": "7c05aba2-88fb-4bf8-a34b-af1bef5047b8",
   "metadata": {},
   "source": [
    "## Create graph\n",
    "\n",
    "After we've defined the tools for the agents, we'll create the agents and tell them how to talk to each other using LangGraph.\n",
    "\n",
    "### Define State\n",
    "\n",
    "First define the state of the graph. This will just be a list of messages, and a key to track the most recent sender."
   ]
  },
  {
   "cell_type": "code",
   "execution_count": 9,
   "id": "1e04f68d-6d77-46b0-9b9a-7b79ce448e06",
   "metadata": {},
   "outputs": [],
   "source": [
    "import operator\n",
    "from typing import (\n",
    "    Annotated, \n",
    "    Sequence, \n",
    "    TypedDict\n",
    ")\n",
    "\n",
    "\n",
    "# This defines the object that is passed between each node\n",
    "# in the graph. We will create different nodes for each \n",
    "# agent and tool.\n",
    "class AgentState(TypedDict):\n",
    "    messages: Annotated[\n",
    "        Sequence[BaseMessage], \n",
    "        operator.add\n",
    "    ]\n",
    "    sender: str"
   ]
  },
  {
   "cell_type": "markdown",
   "id": "429ab881-d2b7-492d-a1c7-5997db01726b",
   "metadata": {},
   "source": [
    "### Define Agent Nodes\n",
    "\n",
    "Next, let's define the nodes for the agents. To make things easier, we'll create a helper function to create a node for a given agent."
   ]
  },
  {
   "cell_type": "code",
   "execution_count": 14,
   "id": "b9d826eb-12a0-41b2-aa5c-8e634d39154d",
   "metadata": {},
   "outputs": [],
   "source": [
    "from typing import Any\n",
    "\n",
    "from langchain_core.messages import AIMessage\n",
    "from langchain_core.runnables import Runnable\n",
    "from langchain.pydantic_v1 import BaseModel\n",
    "\n",
    "\n",
    "def agent_node(\n",
    "    state: AgentState, \n",
    "    agent: Runnable, \n",
    "    name: str\n",
    ") -> AgentState:\n",
    "    \"\"\"\n",
    "    Create a node on the graph for a given agent.\n",
    "\n",
    "    Args:\n",
    "        state: Current state of the graph.\n",
    "        agent: The agent that can be invoked to get a result.\n",
    "        name: The name of the node in the graph.\n",
    "        \n",
    "    Returns:\n",
    "        New state of the graph.\n",
    "    \"\"\"\n",
    "    result: [ToolMessage | BaseModel] = agent.invoke(state)\n",
    "    \n",
    "    # Convert the agent output into a format that \n",
    "    # is suitable to append to the global state\n",
    "    if isinstance(result, ToolMessage):\n",
    "        pass\n",
    "    else:        \n",
    "        result_dict = result.dict(\n",
    "            exclude={\"type\", \"name\"}\n",
    "        )\n",
    "        result = AIMessage(\n",
    "            **result_dict, \n",
    "            name=name\n",
    "        )\n",
    "\n",
    "    return AgentState(\n",
    "        messages=[result],\n",
    "        \n",
    "        # Keep track of the agent that sent \n",
    "        # the most recent message, so that we \n",
    "        # know who to route to next.\n",
    "        sender=name,\n",
    "    )"
   ]
  },
  {
   "cell_type": "markdown",
   "id": "5f9c4cec-24b5-4159-b612-857b947ee035",
   "metadata": {},
   "source": [
    "Create the chat model (LLM) that will power the agents:"
   ]
  },
  {
   "cell_type": "code",
   "execution_count": 15,
   "id": "85784783-c5a8-41a7-99f8-27b7cd46b7a5",
   "metadata": {},
   "outputs": [],
   "source": [
    "from langchain_google_genai import ChatGoogleGenerativeAI\n",
    "\n",
    "llm = ChatGoogleGenerativeAI(\n",
    "    model=\"gemini-1.5-flash\",\n",
    "    temperature=0,\n",
    ")"
   ]
  },
  {
   "cell_type": "markdown",
   "id": "9bf802df-3699-40ea-be3f-f40b4bc14de7",
   "metadata": {},
   "source": [
    "#### Research Agent\n",
    "\n",
    "Create the research agent and its node in the graph. The research agent is responsible for searching for answers on the web using the provided web search tool."
   ]
  },
  {
   "cell_type": "code",
   "execution_count": 17,
   "id": "e9add4b6-1c94-4912-a189-aa4a24d3367f",
   "metadata": {},
   "outputs": [
    {
     "name": "stderr",
     "output_type": "stream",
     "text": [
      "Key 'title' is not supported in schema, ignoring\n",
      "Key 'title' is not supported in schema, ignoring\n"
     ]
    }
   ],
   "source": [
    "from functools import partial\n",
    "\n",
    "research_agent = create_agent(\n",
    "    model=llm,\n",
    "    tools=[web_search_tool],\n",
    "    system_message=(\n",
    "        \"Given the user's query, your task is to use \"\n",
    "        \"the provided tool to search the web for \"\n",
    "        \"relevant answers. Provide accurate data \"\n",
    "        \"for another AI assistant to plot a chart.\"\n",
    "    ),\n",
    ")\n",
    "research_agent_node = partial(\n",
    "    agent_node, \n",
    "    agent=research_agent, \n",
    "    name=\"researcher\"\n",
    ")"
   ]
  },
  {
   "cell_type": "markdown",
   "id": "621476f5-d8d6-4fdd-a84c-52473bcf6467",
   "metadata": {},
   "source": [
    "#### Chart Generator Agent\n",
    "\n",
    "Create the chart generator agent and its node in the graph. Given the relevant data, the chart generator agent will plot a chart with the provided function/tool."
   ]
  },
  {
   "cell_type": "code",
   "execution_count": 18,
   "id": "dd52e130-3db6-4bac-a2f1-f516fb21300c",
   "metadata": {},
   "outputs": [
    {
     "name": "stderr",
     "output_type": "stream",
     "text": [
      "Key 'title' is not supported in schema, ignoring\n",
      "Key 'title' is not supported in schema, ignoring\n",
      "Key 'title' is not supported in schema, ignoring\n",
      "Key 'title' is not supported in schema, ignoring\n",
      "Key 'title' is not supported in schema, ignoring\n",
      "Key 'title' is not supported in schema, ignoring\n"
     ]
    }
   ],
   "source": [
    "chart_agent = create_agent(\n",
    "    model=llm,\n",
    "    tools=[plot_line_chart],\n",
    "    system_message=(        \n",
    "        \"Given the relevant data, use the provided \"\n",
    "        \"tool to plot a chart of the data.\"\n",
    "    )\n",
    ")\n",
    "chart_agent_node = partial(\n",
    "    agent_node, \n",
    "    agent=chart_agent, \n",
    "    name=\"chart_generator\"\n",
    ")"
   ]
  },
  {
   "cell_type": "code",
   "execution_count": null,
   "id": "58a48799-6c6d-43ea-972c-257528c9c009",
   "metadata": {},
   "outputs": [],
   "source": []
  }
 ],
 "metadata": {
  "kernelspec": {
   "display_name": "Python 3 (ipykernel)",
   "language": "python",
   "name": "python3"
  },
  "language_info": {
   "codemirror_mode": {
    "name": "ipython",
    "version": 3
   },
   "file_extension": ".py",
   "mimetype": "text/x-python",
   "name": "python",
   "nbconvert_exporter": "python",
   "pygments_lexer": "ipython3",
   "version": "3.11.9"
  }
 },
 "nbformat": 4,
 "nbformat_minor": 5
}
