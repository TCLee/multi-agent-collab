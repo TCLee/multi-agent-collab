{
 "cells": [
  {
   "cell_type": "markdown",
   "id": "301faede-d393-4031-bac1-3b6e7a3e5b40",
   "metadata": {},
   "source": [
    "# Multi-agent Collaboration\n",
    "\n",
    "\n",
    "## Overview\n",
    "\n",
    "A single agent can usually perform well using a small set of tools to solve a specific task. However, even powerful models like GPT-4 may struggle when given many different tools to solve a complex task.\n",
    "\n",
    "One way to approach complicated tasks is through a _\"divide-and-conquer\"_ approach. Create a specialized agent for each task and route tasks to the correct _\"expert\"_.\n",
    "\n",
    "The code from this notebook is adapted from the [LangGraph tutorial](https://langchain-ai.github.io/langgraph/tutorials/multi_agent/multi-agent-collaboration). The ideas in this notebook is inspired by the paper [AutoGen: Enabling Next-Gen LLM Applications via Multi-Agent Conversation](https://arxiv.org/abs/2308.08155), by Wu, et. al.\n",
    "\n",
    "The graph that we'll build will look something like the following diagram:\n",
    "\n",
    "![multi_agent diagram](img/simple_multi_agent_diagram.png)\n",
    "\n",
    "**Figure 1**: Image from [LangGraph](https://langchain-ai.github.io/langgraph/tutorials/multi_agent/multi-agent-collaboration)"
   ]
  },
  {
   "cell_type": "markdown",
   "id": "f8dd4fa3-a216-44b9-9923-9097dbae46d2",
   "metadata": {},
   "source": [
    "## Setup\n",
    "\n",
    "Before we begin, please make sure you have setup the `.env` file in the project \n",
    "directory as described in [`README.md`](README.md).\n",
    "\n",
    "Next, we will load in the necessary environment variables (e.g., API keys) for this notebook:"
   ]
  },
  {
   "cell_type": "code",
   "execution_count": 1,
   "id": "980343ae-4ac0-425a-92c7-41e099568340",
   "metadata": {},
   "outputs": [],
   "source": [
    "import os\n",
    "from dotenv import load_dotenv\n",
    "\n",
    "_ = load_dotenv()\n",
    "\n",
    "assert os.environ.get(\"GOOGLE_API_KEY\")"
   ]
  },
  {
   "cell_type": "markdown",
   "id": "abfa4f28-20b3-4d6c-9f63-feddb69df1eb",
   "metadata": {},
   "source": [
    "## Create Agents\n",
    "\n",
    "The following helper function will help create agents. These agents will then be nodes in the graph."
   ]
  },
  {
   "cell_type": "code",
   "execution_count": 2,
   "id": "7cb86ca1-14d6-49ba-baf8-7d88cd24df44",
   "metadata": {},
   "outputs": [],
   "source": [
    "from langchain_core.messages import (\n",
    "    BaseMessage,\n",
    "    HumanMessage,\n",
    "    ToolMessage,\n",
    ")\n",
    "from langchain_core.prompts import (\n",
    "    ChatPromptTemplate, \n",
    "    MessagesPlaceholder,\n",
    ")\n",
    "from langchain_core.language_models.chat_models import BaseChatModel\n",
    "from langchain_core.tools import BaseTool\n",
    "from langchain_core.runnables import RunnableSequence\n",
    "\n",
    "\n",
    "def create_agent(\n",
    "    model: BaseChatModel, \n",
    "    tools: list[BaseTool], \n",
    "    system_message: str\n",
    ") -> RunnableSequence:\n",
    "    \"\"\"\n",
    "    Create an agent that will be a node in the graph.\n",
    "\n",
    "    Args:\n",
    "        model: The LLM that powers this agent.\n",
    "        tools: List of tools to be called by the LLM.\n",
    "        system_message: The system message passed to the LLM \n",
    "            to configure its behaviour.\n",
    "\n",
    "    Returns:\n",
    "        A chain that can be invoked.\n",
    "    \"\"\"\n",
    "    prompt = ChatPromptTemplate.from_messages(\n",
    "        [\n",
    "            (\n",
    "                \"system\",\n",
    "                \"You are a helpful AI assistant, \"\n",
    "                \"collaborating with other assistants. \"\n",
    "                \"Use the provided tools to progress \"\n",
    "                \"towards answering the question. \"\n",
    "                \"If you are unable to fully answer, \"\n",
    "                \"that's OK, another assistant with \"\n",
    "                \"different tools will help where \"\n",
    "                \"you left off. Execute what you can \"\n",
    "                \"to make progress. If you or any of \"\n",
    "                \"the other assistants have the \"\n",
    "                \"final answer or deliverable, \"\n",
    "                \"prefix your response with FINAL ANSWER \"\n",
    "                \"so the team knows to stop. \"\n",
    "                \"You have access to the following tools: {tool_names}.\"\n",
    "                \"\\n\\n\"\n",
    "                \"{system_message}\",\n",
    "            ),\n",
    "            MessagesPlaceholder(\n",
    "                variable_name=\"messages\"\n",
    "            ),\n",
    "        ]\n",
    "    )\n",
    "    prompt = prompt.partial(\n",
    "        system_message=system_message\n",
    "    )\n",
    "    prompt = prompt.partial(\n",
    "        tool_names=\", \".join(\n",
    "            tool.name for tool in tools\n",
    "        )\n",
    "    )\n",
    "    return (\n",
    "        prompt \n",
    "        | model.bind_tools(tools)\n",
    "    )"
   ]
  },
  {
   "cell_type": "markdown",
   "id": "d875f3d4-5984-457e-9b30-d43aacc5e6be",
   "metadata": {},
   "source": [
    "## Define Tools\n",
    "\n",
    "We will also define some tools that our agents will use.\n",
    "\n",
    "\n",
    "### Key-Value Store\n",
    "\n",
    "The stock data will be downloaded as a pandas `DataFrame`. There is no easy way to pass a `DataFrame` between the agents. So, we'll need a key-value store to store the downloaded stock data and later retrieve it using just a key (string).\n",
    "\n",
    "> LangChain Concepts: [Key-value stores](https://python.langchain.com/v0.2/docs/concepts/#key-value-stores)"
   ]
  },
  {
   "cell_type": "code",
   "execution_count": 3,
   "id": "b18ed913-1525-4a5a-8df4-85ac1f9a3947",
   "metadata": {},
   "outputs": [],
   "source": [
    "from langchain_core.stores import InMemoryStore\n",
    "\n",
    "data_store = InMemoryStore()"
   ]
  },
  {
   "cell_type": "markdown",
   "id": "697190c5-b37c-4ebf-9b8c-c90ec25b3744",
   "metadata": {},
   "source": [
    "Create a `Stock` data class to represent the downloaded stock data:"
   ]
  },
  {
   "cell_type": "code",
   "execution_count": 4,
   "id": "176f63dc-17d2-4edd-9c72-eb9366772b10",
   "metadata": {},
   "outputs": [],
   "source": [
    "from dataclasses import (\n",
    "    dataclass, \n",
    "    field\n",
    ")\n",
    "import pandas as pd\n",
    "\n",
    "@dataclass\n",
    "class Stock:\n",
    "    \"\"\"\n",
    "    Represents a stock's data that was downloaded from \n",
    "    Yahoo! Finance.\n",
    "    \"\"\"\n",
    "    ticker_symbol: str\n",
    "    \"\"\"The stock's ticker symbol, e.g., AAPL.\"\"\"\n",
    "    \n",
    "    name: str\n",
    "    \"\"\"A short name for the stock, e.g., Apple Inc.\"\"\"\n",
    "    \n",
    "    historical_data: pd.DataFrame = field(\n",
    "        init=False, \n",
    "        repr=False, \n",
    "        compare=False,\n",
    "    )\n",
    "    \"\"\"\n",
    "    A pandas `DataFrame` containing the stock's historical data.\n",
    "    The `DataFrame` contains columns: \n",
    "        `Date`, `Open`, `High`, `Low`, `Close`, `Volume`.\n",
    "    The `Date` column will be used as the `DatetimeIndex`.\n",
    "    \"\"\""
   ]
  },
  {
   "cell_type": "markdown",
   "id": "a1dd21b3-7ca4-4835-84fc-95dc557a9772",
   "metadata": {},
   "source": [
    "### Fetch historical stock data tool\n",
    "\n",
    "This tool is used by the `stock_researcher` agent to fetch historical data for a given stock's ticker symbol. This tool uses the [`yfinance`](https://github.com/ranaroussi/yfinance) library to download market data from [Yahoo! finance](https://finance.yahoo.com/)."
   ]
  },
  {
   "cell_type": "code",
   "execution_count": 5,
   "id": "86e300ea-5240-4e20-8681-a20a5c2d83d8",
   "metadata": {},
   "outputs": [],
   "source": [
    "from typing import Annotated\n",
    "\n",
    "from langchain_core.tools import tool\n",
    "\n",
    "import yfinance as yf\n",
    "\n",
    "\n",
    "@tool\n",
    "def get_historical_stock_data(\n",
    "    ticker_symbol: Annotated[\n",
    "        str, \n",
    "        \"A ticker symbol is a stock symbol; \"\n",
    "        \"an abbreviation of a company's name that \"\n",
    "        \"uniquely identifies its publicly traded \"\n",
    "        \"shares on stock exchanges. Examples of \"\n",
    "        \"ticker symbols are GOOGL for Google, \"\n",
    "        \"AMZN for Amazon, MSFT for Microsoft, \"\n",
    "        \"AAPL for Apple.\"\n",
    "    ],\n",
    ") -> str:\n",
    "    \"\"\"\n",
    "    Downloads the historical stock data for a given \n",
    "    stock ticker symbol.\n",
    "\n",
    "    Example:\n",
    "    \n",
    "        # fetch historical stock data for Apple Inc\n",
    "        get_historical_stock_data('AAPL')\n",
    "    \"\"\"\n",
    "    # download the stock data from Yahoo! Finance\n",
    "    stock_data = yf.Ticker(ticker_symbol)\n",
    "\n",
    "    # create Stock object from downloaded data\n",
    "    stock = Stock(\n",
    "        ticker_symbol=ticker_symbol, \n",
    "        name=stock_data.info['shortName']\n",
    "    )\n",
    "    \n",
    "    stock.historical_data = stock_data.history(\n",
    "        # 1 day interval\n",
    "        interval='1d', \n",
    "        # 3 months history\n",
    "        period='3mo',\n",
    "        # do NOT Include Dividends and \n",
    "        # Stock Splits in results\n",
    "        actions=False,\n",
    "    )\n",
    "\n",
    "    # save the Stock object to a key-value store \n",
    "    # to be retrieved later by another agent\n",
    "    key = ticker_symbol\n",
    "    data_store.mset([(key, stock)])\n",
    "\n",
    "    # return a string update for the LLM\n",
    "    return (\n",
    "        \"Successfully downloaded historical stock \"\n",
    "        f\"data for `{ticker_symbol}`.\\n\\n\"\n",
    "        \"A Stock object has been created and \"\n",
    "        \"saved to the data store with the key \"\n",
    "        f\"'{key}'. Use this key to retrieve the \"\n",
    "        \"Stock object from the data store.\"\n",
    "    )"
   ]
  },
  {
   "cell_type": "markdown",
   "id": "3f3144ed-eca0-48e6-85ee-86507ef62040",
   "metadata": {},
   "source": [
    "Let's try invoking the tool to see what we get back:"
   ]
  },
  {
   "cell_type": "code",
   "execution_count": 6,
   "id": "2f6af71e-099a-47ab-be8a-1ad2e33ff39d",
   "metadata": {},
   "outputs": [],
   "source": [
    "from langchain_core.messages import ToolCall\n",
    "\n",
    "# normally, this would be generated by the LLM\n",
    "tool_call = ToolCall(\n",
    "    name=\"get_historical_stock_data\",\n",
    "    args={\n",
    "        \"ticker_symbol\": \"SPY\"\n",
    "    },\n",
    "    id=123,          # required\n",
    "    type=\"tool_call\" # required\n",
    ")\n",
    "\n",
    "tool_result = get_historical_stock_data.invoke(\n",
    "    input=tool_call\n",
    ")"
   ]
  },
  {
   "cell_type": "code",
   "execution_count": 7,
   "id": "2db59654-ca5f-496c-a89f-4868fdc21634",
   "metadata": {},
   "outputs": [
    {
     "data": {
      "text/plain": [
       "ToolMessage(content=\"Successfully downloaded historical stock data for `SPY`.\\n\\nA Stock object has been created and saved to the data store with the key 'SPY'. Use this key to retrieve the Stock object from the data store.\", name='get_historical_stock_data', tool_call_id='123')"
      ]
     },
     "execution_count": 7,
     "metadata": {},
     "output_type": "execute_result"
    }
   ],
   "source": [
    "tool_result"
   ]
  },
  {
   "cell_type": "code",
   "execution_count": 14,
   "id": "40900a4b-f1a9-4154-800e-223237f1d141",
   "metadata": {},
   "outputs": [
    {
     "data": {
      "text/plain": [
       "Stock(ticker_symbol='SPY', name='SPDR S&P 500')"
      ]
     },
     "execution_count": 14,
     "metadata": {},
     "output_type": "execute_result"
    }
   ],
   "source": [
    "test_stock = data_store.mget([\"SPY\"])[0]\n",
    "test_stock"
   ]
  },
  {
   "cell_type": "code",
   "execution_count": 15,
   "id": "06f2b2a6-4cbe-47a1-b41f-79de715e03db",
   "metadata": {},
   "outputs": [
    {
     "data": {
      "text/html": [
       "<div>\n",
       "<style scoped>\n",
       "    .dataframe tbody tr th:only-of-type {\n",
       "        vertical-align: middle;\n",
       "    }\n",
       "\n",
       "    .dataframe tbody tr th {\n",
       "        vertical-align: top;\n",
       "    }\n",
       "\n",
       "    .dataframe thead th {\n",
       "        text-align: right;\n",
       "    }\n",
       "</style>\n",
       "<table border=\"1\" class=\"dataframe\">\n",
       "  <thead>\n",
       "    <tr style=\"text-align: right;\">\n",
       "      <th></th>\n",
       "      <th>Open</th>\n",
       "      <th>High</th>\n",
       "      <th>Low</th>\n",
       "      <th>Close</th>\n",
       "      <th>Volume</th>\n",
       "    </tr>\n",
       "    <tr>\n",
       "      <th>Date</th>\n",
       "      <th></th>\n",
       "      <th></th>\n",
       "      <th></th>\n",
       "      <th></th>\n",
       "      <th></th>\n",
       "    </tr>\n",
       "  </thead>\n",
       "  <tbody>\n",
       "    <tr>\n",
       "      <th>2024-08-23 00:00:00-04:00</th>\n",
       "      <td>559.530029</td>\n",
       "      <td>563.090027</td>\n",
       "      <td>557.289978</td>\n",
       "      <td>562.130005</td>\n",
       "      <td>50639400</td>\n",
       "    </tr>\n",
       "    <tr>\n",
       "      <th>2024-08-26 00:00:00-04:00</th>\n",
       "      <td>563.179993</td>\n",
       "      <td>563.909973</td>\n",
       "      <td>559.049988</td>\n",
       "      <td>560.789978</td>\n",
       "      <td>35788600</td>\n",
       "    </tr>\n",
       "    <tr>\n",
       "      <th>2024-08-27 00:00:00-04:00</th>\n",
       "      <td>559.489990</td>\n",
       "      <td>562.059998</td>\n",
       "      <td>558.320007</td>\n",
       "      <td>561.559998</td>\n",
       "      <td>32693900</td>\n",
       "    </tr>\n",
       "    <tr>\n",
       "      <th>2024-08-28 00:00:00-04:00</th>\n",
       "      <td>561.210022</td>\n",
       "      <td>561.650024</td>\n",
       "      <td>555.039978</td>\n",
       "      <td>558.299988</td>\n",
       "      <td>41066000</td>\n",
       "    </tr>\n",
       "    <tr>\n",
       "      <th>2024-08-29 00:00:00-04:00</th>\n",
       "      <td>560.309998</td>\n",
       "      <td>563.679993</td>\n",
       "      <td>557.179993</td>\n",
       "      <td>558.349976</td>\n",
       "      <td>38681700</td>\n",
       "    </tr>\n",
       "  </tbody>\n",
       "</table>\n",
       "</div>"
      ],
      "text/plain": [
       "                                 Open        High         Low       Close  \\\n",
       "Date                                                                        \n",
       "2024-08-23 00:00:00-04:00  559.530029  563.090027  557.289978  562.130005   \n",
       "2024-08-26 00:00:00-04:00  563.179993  563.909973  559.049988  560.789978   \n",
       "2024-08-27 00:00:00-04:00  559.489990  562.059998  558.320007  561.559998   \n",
       "2024-08-28 00:00:00-04:00  561.210022  561.650024  555.039978  558.299988   \n",
       "2024-08-29 00:00:00-04:00  560.309998  563.679993  557.179993  558.349976   \n",
       "\n",
       "                             Volume  \n",
       "Date                                 \n",
       "2024-08-23 00:00:00-04:00  50639400  \n",
       "2024-08-26 00:00:00-04:00  35788600  \n",
       "2024-08-27 00:00:00-04:00  32693900  \n",
       "2024-08-28 00:00:00-04:00  41066000  \n",
       "2024-08-29 00:00:00-04:00  38681700  "
      ]
     },
     "execution_count": 15,
     "metadata": {},
     "output_type": "execute_result"
    }
   ],
   "source": [
    "test_stock.historical_data.tail()"
   ]
  },
  {
   "cell_type": "markdown",
   "id": "f4198b0c-c172-4fce-b450-158a2499e57b",
   "metadata": {},
   "source": [
    "### Plot Chart Tool\n",
    "\n",
    "This tool is used by the `chart_generator` agent to plot a chart of a stock's historical data (`Date`, `Open`, `High`, `Low`, `Close`, `Volume`). This tool uses the [`mplfinance`](https://github.com/matplotlib/mplfinance) library which is an extension of [matplotlib](https://matplotlib.org/) for the visualization, and visual analysis of financial data."
   ]
  },
  {
   "cell_type": "code",
   "execution_count": 18,
   "id": "7d9c7db9-8dd9-41e7-8bc5-b15c4a5856a3",
   "metadata": {},
   "outputs": [],
   "source": [
    "import mplfinance as mpf\n",
    "\n",
    "\n",
    "@tool\n",
    "def plot_chart(    \n",
    "    key: Annotated[\n",
    "        str, \n",
    "        \"A unique key used to retrieve a \"\n",
    "        \"`Stock` object from the data store.\"\n",
    "    ]\n",
    ") -> str:\n",
    "    \"\"\"\n",
    "    Plot a chart of a stock's historical data.\n",
    "\n",
    "    A key must be provided to retrieve the `Stock` \n",
    "    object from the data store. Each `Stock` \n",
    "    object is associated with a unique key in \n",
    "    the data store.\n",
    "\n",
    "    Example:\n",
    "\n",
    "        # Get `Stock` object associated with key `SPY` and\n",
    "        # plots a chart of the stock's historical data.\n",
    "        plot_chart(key=\"SPY\")\n",
    "    \"\"\"\n",
    "    # get the Stock object that was saved \n",
    "    # earlier from the key-value store\n",
    "    stock = data_store.mget([key])[0]\n",
    "\n",
    "    # plot the stock's historical data\n",
    "    mpf.plot(\n",
    "        data=stock.historical_data,\n",
    "        type='candle',\n",
    "        mav=2,\n",
    "        mavcolors=['magenta'],\n",
    "        volume=True,\n",
    "        title=f'\\n{stock.name} ({stock.ticker_symbol})'\n",
    "    )\n",
    "\n",
    "    # return a string update for the LLM\n",
    "    return (\n",
    "        \"Finished plotting chart for \"\n",
    "        f\"`{stock.ticker_symbol}`.\"\n",
    "    )"
   ]
  },
  {
   "cell_type": "markdown",
   "id": "176386eb-852b-4617-9675-a4ff901efe99",
   "metadata": {},
   "source": [
    "Let's try invoking the tool to see what we get back:"
   ]
  },
  {
   "cell_type": "code",
   "execution_count": 19,
   "id": "e5ffc519-cb8b-4056-8018-cb64d1541599",
   "metadata": {},
   "outputs": [
    {
     "data": {
      "image/png": "[encoded data removed]",
      "text/plain": [
       "<Figure size 800x575 with 4 Axes>"
      ]
     },
     "metadata": {},
     "output_type": "display_data"
    }
   ],
   "source": [
    "# normally, this would be generated by the LLM\n",
    "tool_call = ToolCall(\n",
    "    name=\"plot_chart\",\n",
    "    args={\n",
    "        \"key\": \"SPY\"\n",
    "    },\n",
    "    id=123,          # required\n",
    "    type=\"tool_call\" # required\n",
    ")\n",
    "\n",
    "tool_result = plot_chart.invoke(\n",
    "    input=tool_call\n",
    ")"
   ]
  },
  {
   "cell_type": "code",
   "execution_count": 20,
   "id": "86414791-7314-4d9d-8600-174f3f0a1d5f",
   "metadata": {},
   "outputs": [
    {
     "data": {
      "text/plain": [
       "ToolMessage(content='Finished plotting chart for `SPY`.', name='plot_chart', tool_call_id='123')"
      ]
     },
     "execution_count": 20,
     "metadata": {},
     "output_type": "execute_result"
    }
   ],
   "source": [
    "tool_result"
   ]
  },
  {
   "cell_type": "markdown",
   "id": "7c05aba2-88fb-4bf8-a34b-af1bef5047b8",
   "metadata": {},
   "source": [
    "## Create graph\n",
    "\n",
    "After we've defined the tools for the agents, we'll create the agents and tell them how to talk to each other using LangGraph.\n",
    "\n",
    "### Define State\n",
    "\n",
    "First define the state of the graph. This will be a list of messages, a key to track the most recent sender, and a pandas `DataFrame` containing a stock's historical data.\n",
    "\n",
    "> See LangGraph Concepts:\n",
    "> * [State](https://langchain-ai.github.io/langgraph/concepts/low_level/#state)\n",
    "> * [Reducers](https://langchain-ai.github.io/langgraph/concepts/low_level/#reducers)"
   ]
  },
  {
   "cell_type": "code",
   "execution_count": 21,
   "id": "1e04f68d-6d77-46b0-9b9a-7b79ce448e06",
   "metadata": {},
   "outputs": [],
   "source": [
    "import operator\n",
    "from typing import (\n",
    "    Annotated, \n",
    "    Sequence, \n",
    "    TypedDict\n",
    ")\n",
    "\n",
    "\n",
    "class AgentState(TypedDict):\n",
    "    \"\"\"\n",
    "    Schema of the graph representing the graph's state.\n",
    "    \"\"\"\n",
    "    messages: Annotated[\n",
    "        Sequence[BaseMessage], \n",
    "        operator.add\n",
    "    ]\n",
    "    \"\"\"List of messages that will be accumulated.\"\"\"\n",
    "    \n",
    "    sender: str\n",
    "    \"\"\"The most recent node that sent this state.\"\"\""
   ]
  },
  {
   "cell_type": "markdown",
   "id": "429ab881-d2b7-492d-a1c7-5997db01726b",
   "metadata": {},
   "source": [
    "### Define Agent Nodes\n",
    "\n",
    "Create the chat model (LLM) that will power the agents:"
   ]
  },
  {
   "cell_type": "code",
   "execution_count": 22,
   "id": "85784783-c5a8-41a7-99f8-27b7cd46b7a5",
   "metadata": {},
   "outputs": [],
   "source": [
    "from langchain_google_genai import ChatGoogleGenerativeAI\n",
    "\n",
    "chat_model = ChatGoogleGenerativeAI(\n",
    "    model=\"gemini-1.5-flash\",\n",
    "    temperature=0,\n",
    ")"
   ]
  },
  {
   "cell_type": "markdown",
   "id": "764f69a1-8737-45c0-8c9f-37a8f6ed8a51",
   "metadata": {},
   "source": [
    "Next, let's define the nodes for the agents. To make things easier, we'll create a helper function to create a node for a given agent."
   ]
  },
  {
   "cell_type": "code",
   "execution_count": 23,
   "id": "b9d826eb-12a0-41b2-aa5c-8e634d39154d",
   "metadata": {},
   "outputs": [],
   "source": [
    "from langchain_core.messages import AIMessage\n",
    "from langchain_core.runnables import Runnable\n",
    "\n",
    "\n",
    "def agent_node(\n",
    "    input_state: AgentState, \n",
    "    agent: Runnable, \n",
    "    name: str\n",
    ") -> AgentState:\n",
    "    \"\"\"\n",
    "    Create a node on the graph for a given agent.\n",
    "\n",
    "    Args:\n",
    "        input_state: Current state of the graph.\n",
    "        agent: The agent is just a chat model that \n",
    "            can call tools.\n",
    "        name: The name of the node in the graph.\n",
    "        \n",
    "    Returns:\n",
    "        New state of the graph.\n",
    "    \"\"\"\n",
    "    result: BaseMessage = agent.invoke(input_state)\n",
    "    \n",
    "    if isinstance(result, ToolMessage):\n",
    "        pass\n",
    "    else:\n",
    "        # ignore message `type`, fix it as `AIMessage`\n",
    "        # `name` attribute set to agent's name\n",
    "        result_dict = result.dict(\n",
    "            exclude={\"type\", \"name\"}\n",
    "        )\n",
    "        result = AIMessage(\n",
    "            **result_dict, \n",
    "            name=name\n",
    "        )\n",
    "\n",
    "    # Output state\n",
    "    return AgentState(\n",
    "        messages=[result],\n",
    "        \n",
    "        # Keep track of the agent that sent \n",
    "        # the most recent message, so that we \n",
    "        # know who to route to next.\n",
    "        sender=name,\n",
    "    )"
   ]
  },
  {
   "cell_type": "markdown",
   "id": "9bf802df-3699-40ea-be3f-f40b4bc14de7",
   "metadata": {},
   "source": [
    "#### Stock Researcher Agent\n",
    "\n",
    "Create the stock researcher agent and its node in the graph. This agent is responsible for fetching historical data of a stock given a stock's ticker symbol. "
   ]
  },
  {
   "cell_type": "code",
   "execution_count": 24,
   "id": "e9add4b6-1c94-4912-a189-aa4a24d3367f",
   "metadata": {},
   "outputs": [
    {
     "name": "stderr",
     "output_type": "stream",
     "text": [
      "Key 'title' is not supported in schema, ignoring\n",
      "Key 'title' is not supported in schema, ignoring\n"
     ]
    }
   ],
   "source": [
    "from functools import partial\n",
    "\n",
    "\n",
    "stock_researcher_agent = create_agent(\n",
    "    model=chat_model,\n",
    "    tools=[\n",
    "        get_historical_stock_data\n",
    "    ],\n",
    "    system_message=(\n",
    "        \"Given a stock's ticker symbol \"\n",
    "        \"(e.g., AAPL for Apple Inc, MSFT for Microsoft Corp, etc.), \"\n",
    "        \"your task is to download that stock's historical data.\"\n",
    "    ),\n",
    ")\n",
    "\n",
    "# stock_researcher_node(input_state: AgentState) -> AgentState\n",
    "stock_researcher_node = partial(\n",
    "    agent_node, \n",
    "    agent=stock_researcher_agent, \n",
    "    name=\"stock_researcher\"\n",
    ")"
   ]
  },
  {
   "cell_type": "markdown",
   "id": "621476f5-d8d6-4fdd-a84c-52473bcf6467",
   "metadata": {},
   "source": [
    "#### Chart Generator Agent\n",
    "\n",
    "Create the agent that will plot a chart of the stock data. Also, create a node in the graph for this agent."
   ]
  },
  {
   "cell_type": "code",
   "execution_count": 25,
   "id": "dd52e130-3db6-4bac-a2f1-f516fb21300c",
   "metadata": {},
   "outputs": [
    {
     "name": "stderr",
     "output_type": "stream",
     "text": [
      "Key 'title' is not supported in schema, ignoring\n",
      "Key 'title' is not supported in schema, ignoring\n"
     ]
    }
   ],
   "source": [
    "chart_agent = create_agent(\n",
    "    model=chat_model,\n",
    "    tools=[\n",
    "        plot_chart\n",
    "    ],\n",
    "    system_message=(\n",
    "        \"Another AI assistant will download the \"\n",
    "        \"stock data for you. Your task is to plot \"\n",
    "        \"a chart of this stock data.\"\n",
    "    ),\n",
    ")\n",
    "\n",
    "chart_generator_node = partial(\n",
    "    agent_node, \n",
    "    agent=chart_agent, \n",
    "    name=\"chart_generator\"\n",
    ")"
   ]
  },
  {
   "cell_type": "markdown",
   "id": "8a66d11b-4fd9-4946-b9d2-31f970828564",
   "metadata": {},
   "source": [
    "### Define Tool Node\n",
    "\n",
    "Define a node to run the tools used by the agents."
   ]
  },
  {
   "cell_type": "code",
   "execution_count": 26,
   "id": "e78afa9c-b329-4b60-954d-21a1fef397b3",
   "metadata": {},
   "outputs": [],
   "source": [
    "from langgraph.prebuilt import ToolNode\n",
    "\n",
    "tool_node = ToolNode(\n",
    "    tools=[\n",
    "        get_historical_stock_data, \n",
    "        plot_chart\n",
    "    ]\n",
    ")"
   ]
  },
  {
   "cell_type": "markdown",
   "id": "b252efe8-8adb-47fd-9a7f-a24a789ebb1e",
   "metadata": {},
   "source": [
    "### Define Routing Function\n",
    "\n",
    "Define the routing function that is used in the conditional edges of our graph. The routing function decides which node to send the state to next based on the response of the agents.\n",
    "\n",
    "> See LangGraph Concepts: [Conditional Edges](https://langchain-ai.github.io/langgraph/concepts/low_level/#conditional-edges)"
   ]
  },
  {
   "cell_type": "code",
   "execution_count": 27,
   "id": "64f74378-e329-418f-89f3-82967f58eebf",
   "metadata": {},
   "outputs": [],
   "source": [
    "from typing import Literal\n",
    "\n",
    "\n",
    "def router(\n",
    "    input_state: AgentState\n",
    ") -> Literal[\"call_tool\", \"finish\", \"continue\"]:\n",
    "    \"\"\"\n",
    "    Routes to different nodes based on the \n",
    "    agent's actions.\n",
    "\n",
    "    Args:\n",
    "        input_state: Current state of the graph.\n",
    "\n",
    "    Returns:\n",
    "        One of the following strings:\n",
    "        - `call_tool`: If agent called a tool.\n",
    "        - `finish`: If an agent decides that the work is finished.\n",
    "        - `continue`: If current agent thinks that it does not \n",
    "            have the required tools to complete the task and \n",
    "            decides to hand over to another agent.\n",
    "    \"\"\"\n",
    "    messages: Sequence[BaseMessage] = input_state[\"messages\"]\n",
    "    last_message: AIMessage = messages[-1]    \n",
    "\n",
    "    if last_message.tool_calls:\n",
    "        # agent called a tool\n",
    "        return \"call_tool\"\n",
    "    \n",
    "    if \"FINAL ANSWER\" in last_message.content:\n",
    "        # agent decides that the job is done\n",
    "        return \"finish\"\n",
    "\n",
    "    # Hand control over to the other agent\n",
    "    return \"continue\""
   ]
  },
  {
   "cell_type": "markdown",
   "id": "b255c9e6-3589-4a1f-bd9d-6b9b9d3456cc",
   "metadata": {},
   "source": [
    "### Build the Graph\n",
    "\n",
    "We can now put it all together and build the graph."
   ]
  },
  {
   "cell_type": "code",
   "execution_count": 28,
   "id": "155efda7-9633-406d-9fd1-23ef739a541f",
   "metadata": {},
   "outputs": [],
   "source": [
    "from langgraph.graph import (\n",
    "    START, \n",
    "    END,\n",
    "    StateGraph,\n",
    ")\n",
    "\n",
    "\n",
    "workflow = StateGraph(\n",
    "    state_schema=AgentState\n",
    ")\n",
    "\n",
    "workflow.add_node(\n",
    "    node=\"stock_researcher\", \n",
    "    action=stock_researcher_node\n",
    ")\n",
    "workflow.add_node(\n",
    "    node=\"chart_generator\", \n",
    "    action=chart_generator_node,\n",
    ")\n",
    "workflow.add_node(\n",
    "    node=\"call_tool\", \n",
    "    action=tool_node,\n",
    ")\n",
    "\n",
    "workflow.add_conditional_edges(\n",
    "    source=\"stock_researcher\",\n",
    "    path=router,\n",
    "    path_map={\n",
    "        \"continue\": \"chart_generator\", \n",
    "        \"call_tool\": \"call_tool\", \n",
    "        \"finish\": END,\n",
    "    },\n",
    ")\n",
    "\n",
    "workflow.add_conditional_edges(\n",
    "    source=\"chart_generator\",\n",
    "    path=router,\n",
    "    path_map={\n",
    "        \"continue\": \"stock_researcher\", \n",
    "        \"call_tool\": \"call_tool\", \n",
    "        \"finish\": END,\n",
    "    },\n",
    ")\n",
    "\n",
    "# Each agent node updates the 'sender' field\n",
    "# the tool calling node does not, meaning\n",
    "# this edge will route back to the original agent\n",
    "# who invoked the tool\n",
    "workflow.add_conditional_edges(\n",
    "    source=\"call_tool\",\n",
    "    # state: AgentState -> sender: str\n",
    "    path=lambda state: state[\"sender\"],\n",
    "    path_map={\n",
    "        \"stock_researcher\": \"stock_researcher\",\n",
    "        \"chart_generator\": \"chart_generator\",\n",
    "    }\n",
    ")\n",
    "\n",
    "workflow.add_edge(\n",
    "    start_key=START, \n",
    "    end_key=\"stock_researcher\"\n",
    ")\n",
    "\n",
    "graph = workflow.compile()"
   ]
  },
  {
   "cell_type": "markdown",
   "id": "bbf4c5e8-f8cc-47b9-bd4a-88dd214fa7d5",
   "metadata": {},
   "source": [
    "Let's visualize the graph that we've built:"
   ]
  },
  {
   "cell_type": "code",
   "execution_count": 29,
   "id": "a2e3cfa8-803c-4a54-ac40-5cc3fd6da0f3",
   "metadata": {},
   "outputs": [
    {
     "data": {
      "image/jpeg": "[encoded data removed]",
      "text/plain": [
       "<IPython.core.display.Image object>"
      ]
     },
     "metadata": {},
     "output_type": "display_data"
    }
   ],
   "source": [
    "from IPython.display import Image, display\n",
    "\n",
    "display(\n",
    "    Image(\n",
    "        graph.get_graph(xray=True).draw_mermaid_png()\n",
    "    )\n",
    ")"
   ]
  },
  {
   "cell_type": "markdown",
   "id": "27bc2cea-b8b0-40f8-bd6a-a382877a2989",
   "metadata": {},
   "source": [
    "## Execute the Graph\n",
    "\n",
    "After we have built the graph and compiled it, we can now execute it. Let's have it fetch a stock's historical data and plot a chart for us:"
   ]
  },
  {
   "cell_type": "code",
   "execution_count": 32,
   "id": "adc03371-8306-4da6-810e-8434a8a77811",
   "metadata": {},
   "outputs": [
    {
     "name": "stdout",
     "output_type": "stream",
     "text": [
      "================================\u001b[1m Human Message \u001b[0m=================================\n",
      "\n",
      "1. Fetch the historical stock data for NVIDIA Corp with stock ticker symbol NVDA.\n",
      "2. Plot a chart of this stock data.\n",
      "3. Finish.\n",
      "==================================\u001b[1m Ai Message \u001b[0m==================================\n",
      "Name: stock_researcher\n",
      "Tool Calls:\n",
      "  get_historical_stock_data (beb59bde-e515-47de-8f8c-7896339344a8)\n",
      " Call ID: beb59bde-e515-47de-8f8c-7896339344a8\n",
      "  Args:\n",
      "    ticker_symbol: NVDA\n",
      "=================================\u001b[1m Tool Message \u001b[0m=================================\n",
      "Name: get_historical_stock_data\n",
      "\n",
      "Successfully downloaded historical stock data for `NVDA`.\n",
      "\n",
      "A Stock object has been created and saved to the data store with the key 'NVDA'. Use this key to retrieve the Stock object from the data store.\n",
      "==================================\u001b[1m Ai Message \u001b[0m==================================\n",
      "Name: stock_researcher\n",
      "\n",
      "I have downloaded the historical stock data for NVDA. I need a tool to plot the chart. Can you provide me with a tool to plot the chart?\n",
      "==================================\u001b[1m Ai Message \u001b[0m==================================\n",
      "Name: chart_generator\n",
      "Tool Calls:\n",
      "  plot_chart (e62c37a3-b536-44d3-a1fa-6980e70ee17d)\n",
      " Call ID: e62c37a3-b536-44d3-a1fa-6980e70ee17d\n",
      "  Args:\n",
      "    key: NVDA\n"
     ]
    },
    {
     "data": {
      "image/png": "[encoded data removed]",
      "text/plain": [
       "<Figure size 800x575 with 4 Axes>"
      ]
     },
     "metadata": {},
     "output_type": "display_data"
    },
    {
     "name": "stdout",
     "output_type": "stream",
     "text": [
      "=================================\u001b[1m Tool Message \u001b[0m=================================\n",
      "Name: plot_chart\n",
      "\n",
      "Finished plotting chart for `NVDA`.\n",
      "==================================\u001b[1m Ai Message \u001b[0m==================================\n",
      "Name: chart_generator\n",
      "\n",
      "FINAL ANSWER: I have plotted the chart for NVDA.\n"
     ]
    }
   ],
   "source": [
    "events = graph.stream(\n",
    "    input={\n",
    "        \"messages\": [\n",
    "            HumanMessage(\n",
    "                content=(\n",
    "                    \"1. Fetch the historical stock data for \"\n",
    "                    \"NVIDIA Corp with stock ticker symbol NVDA.\\n\"\n",
    "                    \"2. Plot a chart of this stock data.\\n\" \n",
    "                    \"3. Finish.\"\n",
    "                )\n",
    "            )\n",
    "        ],\n",
    "    },\n",
    "    config={\n",
    "        # Maximum number of steps to\n",
    "        # take in the graph\n",
    "        \"recursion_limit\": 150\n",
    "    },\n",
    "    stream_mode=\"values\",\n",
    ")\n",
    "\n",
    "for chunk in events:\n",
    "    chunk[\"messages\"][-1].pretty_print()"
   ]
  },
  {
   "cell_type": "code",
   "execution_count": null,
   "id": "f688cc8f-3a8f-41b8-8f6a-a88ecec9bb16",
   "metadata": {},
   "outputs": [],
   "source": []
  }
 ],
 "metadata": {
  "kernelspec": {
   "display_name": "Python 3 (ipykernel)",
   "language": "python",
   "name": "python3"
  },
  "language_info": {
   "codemirror_mode": {
    "name": "ipython",
    "version": 3
   },
   "file_extension": ".py",
   "mimetype": "text/x-python",
   "name": "python",
   "nbconvert_exporter": "python",
   "pygments_lexer": "ipython3",
   "version": "3.11.9"
  }
 },
 "nbformat": 4,
 "nbformat_minor": 5
}
