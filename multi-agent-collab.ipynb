{
 "cells": [
  {
   "cell_type": "markdown",
   "id": "301faede-d393-4031-bac1-3b6e7a3e5b40",
   "metadata": {},
   "source": [
    "# Multi-agent Collaboration\n",
    "\n",
    "A single agent can usually perform well using a small set of tools to solve a specific task. However, even powerful models like GPT-4 may struggle when given many different tools to solve a variety of tasks.\n",
    "\n",
    "One way to approach complicated tasks is through a _\"divide-and-conquer\"_ approach. Create a specialized agent for each task and route tasks to the correct _\"expert\"_.\n",
    "\n",
    "The code from this notebook is adapted from the [LangGraph tutorial](https://langchain-ai.github.io/langgraph/tutorials/multi_agent/multi-agent-collaboration). The ideas in this notebook is inspired by the paper [AutoGen: Enabling Next-Gen LLM Applications via Multi-Agent Conversation](https://arxiv.org/abs/2308.08155), by Wu, et. al.\n",
    "\n",
    "The graph that we'll build will look something like the following diagram:\n",
    "\n",
    "![multi_agent diagram](img/simple_multi_agent_diagram.png)\n",
    "\n",
    "**Figure 1**: Image from [LangGraph](https://langchain-ai.github.io/langgraph/tutorials/multi_agent/multi-agent-collaboration)"
   ]
  },
  {
   "cell_type": "code",
   "execution_count": null,
   "id": "bb8c72a3-f151-44bc-b3aa-f1599ebd44b5",
   "metadata": {},
   "outputs": [],
   "source": []
  }
 ],
 "metadata": {
  "kernelspec": {
   "display_name": "Python 3 (ipykernel)",
   "language": "python",
   "name": "python3"
  },
  "language_info": {
   "codemirror_mode": {
    "name": "ipython",
    "version": 3
   },
   "file_extension": ".py",
   "mimetype": "text/x-python",
   "name": "python",
   "nbconvert_exporter": "python",
   "pygments_lexer": "ipython3",
   "version": "3.11.9"
  }
 },
 "nbformat": 4,
 "nbformat_minor": 5
}
